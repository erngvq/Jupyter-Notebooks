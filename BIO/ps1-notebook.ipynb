{
 "cells": [
  {
   "cell_type": "markdown",
   "metadata": {
    "section": "header"
   },
   "source": [
    "<div style='text-align: center;'>\n",
    "<h1>The University of North Carolina at Chapel Hill</h1>\n",
    "<h1>COMP 555 Bioalgorithms Spring 2021</h1>\n",
    "<h1 style='font-size: 200%;'>Problem Set 1</h1>\n",
    "</div>"
   ]
  },
  {
   "cell_type": "markdown",
   "metadata": {
    "section": "setup"
   },
   "source": [
    "---\n",
    "This problem set will examine the viral genome <a href=\"http://www.csbio.unc.edu/mcmillan/Comp555S21/SARS-CoV-2.fa\" download=\"SARS_CoV-2.fa\">SARS-CoV-2.fa</a>, the <a href=\"http://www.csbio.unc.edu/mcmillan/Comp555S21/SARS-CoV-2.fa\" download=\"GCA_000001405.15_GRCh38_genomic.fna\">human genome</a>, and the Long Terminal Repeat sequence from HERV-K, <a href=\"http://www.csbio.unc.edu/mcmillan/Comp555S21/LTR14A.fa\" download=\"LTR14A.fa\">LTR14A.fa</a>."
   ]
  },
  {
   "cell_type": "code",
   "execution_count": 1,
   "metadata": {
    "section": "givencode"
   },
   "outputs": [],
   "source": [
    "import gzip\n",
    "import itertools\n",
    "import math\n",
    "%matplotlib inline\n",
    "import matplotlib\n",
    "import matplotlib.pyplot as plt\n",
    "\n",
    "def loadFasta(filename):\n",
    "    \"\"\" Parses a classically formatted and possibly compressed\n",
    "        FASTA file into two lists. One of headers and a second\n",
    "        list of sequences. The ith index of each list correspond.\n",
    "    \"\"\"\n",
    "    if filename.endswith('.gz'):\n",
    "        fp = gzip.open(filename, 'r')\n",
    "    else:\n",
    "        fp = open(filename, 'r')\n",
    "    # Split at headers\n",
    "    data = fp.read().split('>')\n",
    "    fp.close()\n",
    "    # Ignore whatever appears before the first header\n",
    "    data.pop(0)     \n",
    "    headers = []\n",
    "    sequences = []\n",
    "    for sequence in data:\n",
    "        lines = sequence.split('\\n')\n",
    "        headers.append(lines.pop(0))\n",
    "        # Add an extra '+' to make string '1-referenced'\n",
    "        sequences.append('+' + ''.join(lines))\n",
    "    return (headers, sequences)"
   ]
  },
  {
   "cell_type": "markdown",
   "metadata": {
    "number": 1,
    "section": "problem"
   },
   "source": [
    "---\n",
    "**Problem 1:** Write a function that produces a list of ***missing*** <em>k</em>-mers from a given sequence. If all possible *k*-mers are present, the function should return an empty list."
   ]
  },
  {
   "cell_type": "code",
   "execution_count": 2,
   "metadata": {
    "number": 1,
    "section": "answer"
   },
   "outputs": [],
   "source": [
    "def missingKmers(dnaseq, k):\n",
    "    missing  = []\n",
    "\n",
    "    kmerSet = set()\n",
    "    for i in range(1, len(dnaseq)-k+1):\n",
    "        kmer = dnaseq[i:i+k]\n",
    "        kmerSet.add(kmer)\n",
    "\n",
    "    for pattern in itertools.product('ACGT', repeat=k):\n",
    "        kmer = ''.join(pattern)\n",
    "        if kmer not in kmerSet:\n",
    "            missing.append(kmer)\n",
    "\n",
    "    return missing"
   ]
  },
  {
   "cell_type": "code",
   "execution_count": 3,
   "metadata": {},
   "outputs": [
    {
     "name": "stdout",
     "output_type": "stream",
     "text": [
      "['CG', 'CT', 'GC', 'GG', 'GT', 'TC', 'TG']\n"
     ]
    }
   ],
   "source": [
    "result = missingKmers('+GAGACATTAGACATAACC', 2)\n",
    "# result = missingKmers('+GAGACATTAGACATAACCGCTCTGGT', 2)\n",
    "print(result)"
   ]
  },
  {
   "cell_type": "markdown",
   "metadata": {
    "number": 2,
    "section": "problem"
   },
   "source": [
    "---\n",
    "**Problem 2:** Apply your function from **Problem 1** to the sequence from Human Chromosome 1 with a *k* value of 11. Examine the list of missing *k*-mers and find how many of the possible 11-mers are missing from Chromosome 1?"
   ]
  },
  {
   "cell_type": "code",
   "execution_count": 4,
   "metadata": {},
   "outputs": [
    {
     "name": "stdout",
     "output_type": "stream",
     "text": [
      "248956423\n"
     ]
    }
   ],
   "source": [
    "dna = open('data/HumanSeq/Chr1.seq', 'r').read()\n",
    "print(len(dna))"
   ]
  },
  {
   "cell_type": "code",
   "execution_count": 5,
   "metadata": {},
   "outputs": [
    {
     "name": "stdout",
     "output_type": "stream",
     "text": [
      "147720 0.03521919250488281\n"
     ]
    }
   ],
   "source": [
    "result = missingKmers(dna, 11)\n",
    "print(len(result), len(result)/(4**11))"
   ]
  },
  {
   "cell_type": "markdown",
   "metadata": {
    "number": 3,
    "section": "problem"
   },
   "source": [
    "---\n",
    "**Problem 3:** Given *only* the list of missing 11-mers from **Problem 2**, predict how many 10-mers are missing. Also, using *only* these missing 11-mers, predict a lower-bound of the number of missing 12-mers in Chromosome 1."
   ]
  },
  {
   "cell_type": "code",
   "execution_count": 6,
   "metadata": {},
   "outputs": [
    {
     "name": "stdout",
     "output_type": "stream",
     "text": [
      "2649\n"
     ]
    }
   ],
   "source": [
    "missing10mers = []\n",
    "for kmer in result:\n",
    "    prefix = kmer[:-1]\n",
    "    for extra in 'ACGT':\n",
    "        if prefix + extra not in result:\n",
    "            break\n",
    "        if extra + prefix not in result:\n",
    "            break\n",
    "    else:\n",
    "        if prefix not in missing10mers:\n",
    "            missing10mers.append(prefix)\n",
    "print(len(missing10mers))"
   ]
  },
  {
   "cell_type": "code",
   "execution_count": 7,
   "metadata": {},
   "outputs": [
    {
     "name": "stdout",
     "output_type": "stream",
     "text": [
      "954670\n"
     ]
    }
   ],
   "source": [
    "missing12mers = set()\n",
    "for kmer in result:\n",
    "    for extra in 'ACGT':\n",
    "        missing12mers.add(kmer + extra)\n",
    "        missing12mers.add(extra + kmer)\n",
    "print(len(missing12mers))"
   ]
  },
  {
   "cell_type": "markdown",
   "metadata": {
    "number": 5,
    "section": "problem"
   },
   "source": [
    "---\n",
    "**Problem 4:** The goal of this problem is to make a list identifying potential full ERVs in the human genome. Write a code fragment that uses the *(position, kmer-index)* tuples from Lecture 4 to find all LTR pairs satisfying the following conditions:\n",
    "\n",
    "1. Both LTRs include at least 20% of their expected *k*-mers in order.\n",
    "2. Both LTRs are on the same strand.\n",
    "3. The span from the first *k*-mer of the first LTR to the last *k*-mer of the second LTR is less than 10000 bases.\n",
    "\n",
    "Your code should output a list of tuples with the following values in order, the contig name, the position of first *k*-mer of the first LRT, and the postion of the last *k*-mer of the second LTR. For example, the interval output for the example given in class would be:\n",
    "\n",
    "<pre>('1', 62178464, 62183771)</pre>"
   ]
  },
  {
   "cell_type": "code",
   "execution_count": 8,
   "metadata": {},
   "outputs": [],
   "source": [
    "def revComp(dnaSeq):\n",
    "    return ''.join([{'A':'T',\n",
    "                     'C':'G',\n",
    "                     'G':'C',\n",
    "                     'T':'A'}[base] for base in reversed(dnaSeq)])"
   ]
  },
  {
   "cell_type": "code",
   "execution_count": 9,
   "metadata": {},
   "outputs": [],
   "source": [
    "hdr, seq = loadFasta('data/LTR14A.fa')"
   ]
  },
  {
   "cell_type": "code",
   "execution_count": 10,
   "metadata": {},
   "outputs": [
    {
     "name": "stdout",
     "output_type": "stream",
     "text": [
      "326\n"
     ]
    }
   ],
   "source": [
    "ltr = seq[0].upper()\n",
    "K = 19\n",
    "forward = dict([(ltr[i:i+K], i) for i in range(1, len(ltr)-K+1)])\n",
    "print(len(forward))\n",
    "rev = '+' + revComp(ltr[1:])\n",
    "reverse = dict([(rev[i:i+K], -i) for i in range(1, len(rev)-K+1)])\n",
    "print(len(reverse))"
   ]
  },
  {
   "cell_type": "code",
   "execution_count": 11,
   "metadata": {},
   "outputs": [
    {
     "name": "stdout",
     "output_type": "stream",
     "text": [
      "1 248956423 1698 434.88 secs\n",
      "2 242193530 1265 229.41 secs\n",
      "3 198295560 1060 177.49 secs\n",
      "4 190214556 786 194.33 secs\n",
      "5 181538260 1243 211.90 secs\n",
      "6 170805980 1393 139.57 secs\n",
      "7 159345974 1301 125.63 secs\n",
      "8 145138637 345 107.33 secs\n",
      "9 138394718 511 190.24 secs\n",
      "10 133797423 2181 243.09 secs\n",
      "11 135086623 914 244.79 secs\n",
      "12 133275310 638 242.45 secs\n",
      "13 114364329 620 202.00 secs\n",
      "14 107043719 209 204.46 secs\n",
      "15 101991190 839 183.84 secs\n",
      "16 90338346 173 165.92 secs\n",
      "17 83257442 701 154.90 secs\n",
      "18 80373286 288 140.82 secs\n",
      "19 58617617 693 105.45 secs\n",
      "20 64444168 118 112.76 secs\n",
      "21 46709984 347  82.54 secs\n",
      "22 50818469 924  92.93 secs\n",
      "X 156040896 1665 275.12 secs\n",
      "Y 57227416 391 101.92 secs\n",
      "MT 16570 3   0.06 secs\n"
     ]
    }
   ],
   "source": [
    "import time\n",
    "\n",
    "chromo = [str(i) for i in range(1, 23)] + ['X', 'Y', 'MT']\n",
    "\n",
    "genome = []\n",
    "kmerCount = {}\n",
    "for contig in chromo:\n",
    "    tick = time.time()\n",
    "    position = []\n",
    "    with open('data/HumanSeq/Chr%s.seq' % contig, 'r') as fp:\n",
    "        chrseq = fp.read()\n",
    "    for i in range(1, len(chrseq)-K+1):\n",
    "        kmer = chrseq[i:i+K]\n",
    "        if kmer in forward:\n",
    "            position.append((i, forward[kmer]))\n",
    "        elif kmer in reverse:\n",
    "            position.append((i, reverse[kmer]))\n",
    "        else:\n",
    "            if len(position) > 2 and position[-2][1] == 0 and position[-1][1] == 0:\n",
    "                position.pop()\n",
    "            position.append((i, 0))\n",
    "    tock = time.time()\n",
    "    print(contig, len(chrseq), len(position), '%6.2f secs' % (tock - tick))\n",
    "    tick = tock\n",
    "    genome.append(position)"
   ]
  },
  {
   "cell_type": "code",
   "execution_count": 12,
   "metadata": {},
   "outputs": [],
   "source": [
    "def potentialLtrs(genomeIdx):\n",
    "    start = end = -1\n",
    "    startIdx = prevIdx = counter = 0\n",
    "    possibleLtrs = set()\n",
    "    \n",
    "    for elt in genomeIdx:\n",
    "        position, kmerIdx = elt[0], elt[1]\n",
    "        \n",
    "        if (startIdx > 0 and kmerIdx > prevIdx) or (startIdx < 0 and kmerIdx < prevIdx):\n",
    "            counter += 1\n",
    "            end = position\n",
    "            prevIdx = kmerIdx\n",
    "        \n",
    "        elif kmerIdx != 0:\n",
    "            if counter > 66 and end - start <= 326:\n",
    "                possibleLtrs.add((strand, start, end))\n",
    "            start = position\n",
    "            startIdx = kmerIdx\n",
    "            prevIdx = kmerIdx\n",
    "            strand = 'NEGATIVE' if startIdx < 0 else 'POSITIVE'\n",
    "            counter = 1\n",
    "\n",
    "    return sorted(possibleLtrs)"
   ]
  },
  {
   "cell_type": "code",
   "execution_count": 13,
   "metadata": {},
   "outputs": [
    {
     "name": "stdout",
     "output_type": "stream",
     "text": [
      "[('1', 62178464, 62183771), ('6', 134600811, 134605405), ('7', 138339214, 138345790), ('17', 75022576, 75030502), ('22', 30675436, 30679905), ('X', 101183288, 101189830), ('X', 118293074, 118300698)]\n"
     ]
    }
   ],
   "source": [
    "ltrPairs = []\n",
    "for chrom in range(len(genome)):\n",
    "    possibleLtrs = potentialLtrs(genome[chrom])\n",
    "\n",
    "    positiveStrand = list(filter(lambda x: x[0] == 'POSITIVE', possibleLtrs))\n",
    "    negativeStrand = list(filter(lambda x: x[0] == 'NEGATIVE', possibleLtrs))\n",
    "\n",
    "    for k in range(len(positiveStrand) - 1):\n",
    "        if positiveStrand[k+1][2] - positiveStrand[k][1] < 10000:\n",
    "            ltrPairs.append((str(chrom+1) if chrom < 22\n",
    "                                          else 'X' if chrom == 22\n",
    "                                          else 'Y' if chrom == 23\n",
    "                                          else 'MT', positiveStrand[k][1], positiveStrand[k+1][2]))\n",
    "\n",
    "    for k in range(len(negativeStrand) - 1):\n",
    "        if negativeStrand[k+1][2] - negativeStrand[k][1] < 10000:\n",
    "            ltrPairs.append((str(chrom+1) if chrom < 22\n",
    "                                          else 'X' if chrom == 22\n",
    "                                          else 'Y' if chrom == 23\n",
    "                                          else 'MT', negativeStrand[k][1], negativeStrand[k+1][2]))            \n",
    "print(ltrPairs)"
   ]
  }
 ],
 "metadata": {
  "kernelspec": {
   "display_name": "Python 3",
   "language": "python",
   "name": "python3"
  },
  "language_info": {
   "codemirror_mode": {
    "name": "ipython",
    "version": 3
   },
   "file_extension": ".py",
   "mimetype": "text/x-python",
   "name": "python",
   "nbconvert_exporter": "python",
   "pygments_lexer": "ipython3",
   "version": "3.7.4"
  }
 },
 "nbformat": 4,
 "nbformat_minor": 2
}
