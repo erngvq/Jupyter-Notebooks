{
 "cells": [
  {
   "cell_type": "markdown",
   "metadata": {},
   "source": [
    "<div style=\"text-align: center;\">\n",
    "<h1>The University of North Carolina at Chapel Hill</h1>\n",
    "<h1>COMP 555 Bioalgorithms Spring 2021</h1>\n",
    "<h1 style=\"font-size: 200%;\">Problem Set 5</h1>\n",
    "</div>"
   ]
  },
  {
   "cell_type": "markdown",
   "metadata": {},
   "source": [
    "---\n",
    "**Problem 1:** Consider the table of integer molecular weights for amino acid residues shown below.\n",
    "\n",
    "        Daltons = {\n",
    "            'A':  71, 'C': 103, 'D': 115, 'E': 129,\n",
    "            'F': 147, 'G':  57, 'H': 137, 'I': 113,\n",
    "            'K': 128, 'L': 113, 'M': 131, 'N': 114,\n",
    "            'P':  97, 'Q': 128, 'R': 156, 'S':  87,\n",
    "            'T': 101, 'V':  99, 'W': 186, 'Y': 163\n",
    "        }\n",
    "\n",
    "Which peptide *combinations* have a total molecular weight of 407? A *combination* means that the order of the peptides is unimportant (i.e., <code>LMY</code> is the same combination as any of <code>LYM</code>, <code>MLY</code>, <code>MYL</code>, <code>YLM</code>, and <code>YML</code>). When reporting your answer, you should lexicographically sort the residues within each combination. Furthermore, the list of combinations should also be lexicographically sorted."
   ]
  },
  {
   "cell_type": "code",
   "execution_count": 1,
   "metadata": {},
   "outputs": [
    {
     "name": "stdout",
     "output_type": "stream",
     "text": [
      "AAAGH\n",
      "AAAPP\n",
      "AAHK\n",
      "AAHQ\n",
      "CCGGS\n",
      "CCNS\n",
      "DEY\n",
      "EFM\n",
      "FFI\n",
      "FFL\n",
      "FPY\n",
      "GGGHV\n",
      "GGHR\n",
      "GGPPV\n",
      "GHNV\n",
      "GPPR\n",
      "HNR\n",
      "IMY\n",
      "LMY\n",
      "NPPV\n"
     ]
    }
   ],
   "source": [
    "import itertools, math\n",
    "\n",
    "Daltons = { \n",
    "    'A':  71, 'C': 103, 'D': 115, 'E': 129,\n",
    "    'F': 147, 'G':  57, 'H': 137, 'I': 113,\n",
    "    'K': 128, 'L': 113, 'M': 131, 'N': 114,\n",
    "    'P':  97, 'Q': 128, 'R': 156, 'S':  87,\n",
    "    'T': 101, 'V':  99, 'W': 186, 'Y': 163\n",
    "}\n",
    "\n",
    "def generatePeptideCombs(molecularWeight):\n",
    "    upperBound = math.ceil(407/min(Daltons.values()))\n",
    "    lst = []\n",
    "\n",
    "    for r in range(upperBound, 0, -1):\n",
    "        for peptide in itertools.combinations_with_replacement(Daltons.keys(), r):\n",
    "            if sum([Daltons[e] for e in peptide]) == molecularWeight:\n",
    "                lst.append(''.join(peptide))\n",
    "\n",
    "    return sorted(lst)\n",
    "\n",
    "combs = generatePeptideCombs(407)\n",
    "for c in combs:\n",
    "    print(c)"
   ]
  },
  {
   "cell_type": "markdown",
   "metadata": {},
   "source": [
    "---\n",
    "**Problem 2:** The SARS-COV-2 protein encoded in *ORF6* interferes with an interferon antiviral response and thus enables the virus to replicate and propagate in their host. The peptide sequence for *ORF6* is:\n",
    "\n",
    "       MFHLVDFQVTIAEILLIIMRTFKVSIWNLDYIINLIIKNLSKSLTENKYSQLDEEQPMEID\n",
    "\n",
    "How many possible DNA-sequence encodings are possible for this protein (ignore the STOP codon)?"
   ]
  },
  {
   "cell_type": "code",
   "execution_count": 2,
   "metadata": {},
   "outputs": [
    {
     "name": "stdout",
     "output_type": "stream",
     "text": [
      "{'K': ['AAA', 'AAG'], 'N': ['AAC', 'AAT'], 'R': ['AGA', 'AGG', 'CGA', 'CGG', 'CGC', 'CGT'], 'S': ['AGC', 'AGT', 'TCA', 'TCG', 'TCC', 'TCT'], 'T': ['ACA', 'ACG', 'ACC', 'ACT'], 'I': ['ATA', 'ATC', 'ATT'], 'M': ['ATG'], 'E': ['GAA', 'GAG'], 'D': ['GAC', 'GAT'], 'G': ['GGA', 'GGG', 'GGC', 'GGT'], 'A': ['GCA', 'GCG', 'GCC', 'GCT'], 'V': ['GTA', 'GTG', 'GTC', 'GTT'], 'Q': ['CAA', 'CAG'], 'H': ['CAC', 'CAT'], 'P': ['CCA', 'CCG', 'CCC', 'CCT'], 'L': ['CTA', 'CTG', 'CTC', 'CTT', 'TTA', 'TTG'], '*': ['TAA', 'TAG', 'TGA'], 'Y': ['TAC', 'TAT'], 'W': ['TGG'], 'C': ['TGC', 'TGT'], 'F': ['TTC', 'TTT']}\n",
      "\n",
      "Number of DNA encodings: 3391865480678009349693505536\n"
     ]
    }
   ],
   "source": [
    "from functools import reduce\n",
    "\n",
    "ORF6 = 'MFHLVDFQVTIAEILLIIMRTFKVSIWNLDYIINLIIKNLSKSLTENKYSQLDEEQPMEID'\n",
    "\n",
    "codons = {\n",
    "    'AAA': 'K', 'AAG': 'K', 'AAC': 'N', 'AAT': 'N',\n",
    "    'AGA': 'R', 'AGG': 'R', 'AGC': 'S', 'AGT': 'S',\n",
    "    'ACA': 'T', 'ACG': 'T', 'ACC': 'T', 'ACT': 'T',\n",
    "    'ATA': 'I', 'ATG': 'M', 'ATC': 'I', 'ATT': 'I',\n",
    "    'GAA': 'E', 'GAG': 'E', 'GAC': 'D', 'GAT': 'D',\n",
    "    'GGA': 'G', 'GGG': 'G', 'GGC': 'G', 'GGT': 'G',\n",
    "    'GCA': 'A', 'GCG': 'A', 'GCC': 'A', 'GCT': 'A',\n",
    "    'GTA': 'V', 'GTG': 'V', 'GTC': 'V', 'GTT': 'V',\n",
    "    'CAA': 'Q', 'CAG': 'Q', 'CAC': 'H', 'CAT': 'H',\n",
    "    'CGA': 'R', 'CGG': 'R', 'CGC': 'R', 'CGT': 'R',\n",
    "    'CCA': 'P', 'CCG': 'P', 'CCC': 'P', 'CCT': 'P',\n",
    "    'CTA': 'L', 'CTG': 'L', 'CTC': 'L', 'CTT': 'L',\n",
    "    'TAA': '*', 'TAG': '*', 'TAC': 'Y', 'TAT': 'Y',\n",
    "    'TGA': '*', 'TGG': 'W', 'TGC': 'C', 'TGT': 'C',\n",
    "    'TCA': 'S', 'TCG': 'S', 'TCC': 'S', 'TCT': 'S',\n",
    "    'TTA': 'L', 'TTG': 'L', 'TTC': 'F', 'TTT': 'F'\n",
    "}\n",
    "\n",
    "reverseCodons = {}\n",
    "for key in codons:\n",
    "    reverseCodons[codons[key]] = reverseCodons.get(codons[key], []) + [key]\n",
    "\n",
    "print(reverseCodons)\n",
    "print()\n",
    "print('Number of DNA encodings:', reduce(lambda a, b: a * b, [len(reverseCodons[r]) for r in ORF6]))"
   ]
  },
  {
   "cell_type": "markdown",
   "metadata": {},
   "source": [
    "---\n",
    "**Problem 3:** How many distinct molecular weights are in the Theoretical Spectrum of *ORF6*?"
   ]
  },
  {
   "cell_type": "code",
   "execution_count": 3,
   "metadata": {},
   "outputs": [
    {
     "name": "stdout",
     "output_type": "stream",
     "text": [
      "1388\n"
     ]
    }
   ],
   "source": [
    "def theoreticalSpectrum(peptide):\n",
    "    spectrum = set()\n",
    "    for fragLength in range(1, len(peptide)+1):\n",
    "        for start in range(0, len(peptide)-fragLength+1):\n",
    "            seq = peptide[start:start+fragLength]\n",
    "            spectrum.add(sum([Daltons[res] for res in seq]))\n",
    "    return sorted(spectrum)\n",
    "\n",
    "print(len(theoreticalSpectrum(ORF6)))"
   ]
  },
  {
   "cell_type": "markdown",
   "metadata": {},
   "source": [
    "---\n",
    "**Problem 4:** What is the most frequently occcurring molecular weight in the Theoretical Spectrum of *ORF6*? What is the most frequently occcurring molecular weight in the Theoretical Spectrum of *ORF6* where all peptides are composed of more than two residues?"
   ]
  },
  {
   "cell_type": "code",
   "execution_count": 4,
   "metadata": {},
   "outputs": [
    {
     "name": "stdout",
     "output_type": "stream",
     "text": [
      "Most frequent peptide (k = 1): 113 with count = 18\n",
      "Most frequent peptide (k = 3): 614 with count = 5\n"
     ]
    }
   ],
   "source": [
    "def theoreticalDistribution(peptide, k):\n",
    "    spectrum = {}\n",
    "    for fragLength in range(k, len(peptide)+1):\n",
    "        for start in range(0, len(peptide)-fragLength+1):\n",
    "            seq = peptide[start:start+fragLength]\n",
    "            weight = sum([Daltons[res] for res in seq])\n",
    "            spectrum[weight] = spectrum.get(weight, 0) + 1\n",
    "    return spectrum\n",
    "\n",
    "def findMostOccurring(k):\n",
    "    weights = theoreticalDistribution(ORF6, k)\n",
    "    print('Most frequent peptide (k = %d): %d with count = %d' % (k, max(weights, key=weights.get), max(weights.values())))\n",
    "\n",
    "findMostOccurring(1)\n",
    "findMostOccurring(3)"
   ]
  },
  {
   "cell_type": "markdown",
   "metadata": {},
   "source": [
    "---\n",
    "**Problem 5:** The following Experimental Spectrum is reported for a subpeptide of *ORF6*:\n",
    "\n",
    "    Experimental = [\n",
    "          87,  113,  114,  115,  128,  186,  200,  215,  226,  227,  228,  241,  242,  276,  278,\n",
    "         300,  314,  328,  339,  340,  342,  354,  355,  389,  391,  413,  442,  453,  467,  468,\n",
    "         504,  505,  528,  555,  566,  570,  581,  616,  617,  668,  679,  683,  691,  695,  729,\n",
    "         731,  781,  796,  804,  807,  808,  842,  844,  845,  895,  917,  921,  957,  970, 1008,\n",
    "        1023, 1031, 1070, 1071, 1085, 1121, 1136, 1184, 1197, 1198, 1199, 1249, 1257, 1284, 1312,\n",
    "        1370, 1399, 1412, 1425, 1426, 1498, 1527, 1539, 1612, 1626, 1640, 1725, 1754, 1812, 1940\n",
    "    ]\n",
    "\n",
    "What is the subpeptide's sequence?"
   ]
  },
  {
   "cell_type": "code",
   "execution_count": 5,
   "metadata": {},
   "outputs": [
    {
     "name": "stdout",
     "output_type": "stream",
     "text": [
      "WNLDYIINLIIKNLSK\n"
     ]
    }
   ],
   "source": [
    "Experimental = set([\n",
    "      87,  113,  114,  115,  128,  186,  200,  215,  226,  227,  228,  241,  242,  276,  278,\n",
    "     300,  314,  328,  339,  340,  342,  354,  355,  389,  391,  413,  442,  453,  467,  468,\n",
    "     504,  505,  528,  555,  566,  570,  581,  616,  617,  668,  679,  683,  691,  695,  729,\n",
    "     731,  781,  796,  804,  807,  808,  842,  844,  845,  895,  917,  921,  957,  970, 1008,\n",
    "    1023, 1031, 1070, 1071, 1085, 1121, 1136, 1184, 1197, 1198, 1199, 1249, 1257, 1284, 1312,\n",
    "    1370, 1399, 1412, 1425, 1426, 1498, 1527, 1539, 1612, 1626, 1640, 1725, 1754, 1812, 1940\n",
    "])\n",
    "\n",
    "maxScore = 0\n",
    "for k in range(1940//max(Daltons.values()), 1940//min(Daltons.values())):\n",
    "    for i in range(0, len(ORF6)-k+1):\n",
    "        kmer = ORF6[i:i+k]\n",
    "        theoSpect = set(theoreticalSpectrum(kmer))\n",
    "        score = len(theoSpect & Experimental)/len(theoSpect | Experimental)\n",
    "        if score > maxScore:\n",
    "            subpeptide, maxScore = kmer, score\n",
    "    \n",
    "print(subpeptide)"
   ]
  }
 ],
 "metadata": {
  "kernelspec": {
   "display_name": "Python 3",
   "language": "python",
   "name": "python3"
  },
  "language_info": {
   "codemirror_mode": {
    "name": "ipython",
    "version": 3
   },
   "file_extension": ".py",
   "mimetype": "text/x-python",
   "name": "python",
   "nbconvert_exporter": "python",
   "pygments_lexer": "ipython3",
   "version": "3.7.4"
  }
 },
 "nbformat": 4,
 "nbformat_minor": 2
}
