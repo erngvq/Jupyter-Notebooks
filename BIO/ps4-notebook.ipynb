{
 "cells": [
  {
   "cell_type": "markdown",
   "metadata": {
    "section": "header"
   },
   "source": [
    "<div style=\"text-align: center;\">\n",
    "<h1>The University of North Carolina at Chapel Hill</h1>\n",
    "<h1>COMP 555 Bioalgorithms Spring 2021</h1>\n",
    "<h1 style=\"font-size: 200%;\">Problem Set 4</h1>\n",
    "</div>"
   ]
  },
  {
   "cell_type": "markdown",
   "metadata": {},
   "source": [
    "---\n",
    "The following problems make use of the following Insulin protein sequences:"
   ]
  },
  {
   "cell_type": "code",
   "execution_count": 1,
   "metadata": {},
   "outputs": [],
   "source": [
    "human = 'MALWMRLLPLLALLALWGPDPAAAFVNQHLCGSHLVEALYLVCGERGFFYTPKTRREAEDLQGSLQPLALEGSLQKRGIVEQCCTSICSLYQLENYCN'\n",
    "dog   = 'MALWMRLLPLLALLALWAPAPTRAFVNQHLCGSHLVEALYLVCGERGFFYTPKARREVEDLQVRDVELAGAPGEGGLQPLALEGALQKRGIVEQCCTSICSLYQLENYCN'"
   ]
  },
  {
   "cell_type": "markdown",
   "metadata": {
    "number": 1,
    "section": "problem"
   },
   "source": [
    "---\n",
    "**Problem 1:** Find the longest common subsequence (LCS) shared the between human and dog insulin, its length, and the alignment that it implies."
   ]
  },
  {
   "cell_type": "code",
   "execution_count": 2,
   "metadata": {},
   "outputs": [],
   "source": [
    "import numpy as np\n",
    "\n",
    "def findLCS(v, w):\n",
    "    score = np.zeros((len(v)+1, len(w)+1), dtype='int32')\n",
    "    backt = np.zeros((len(v)+1, len(w)+1), dtype='int32')\n",
    "    for i in range(1, len(v)+1):\n",
    "        for j in range(1, len(w)+1):\n",
    "            if v[i-1] == w[j-1]:\n",
    "                score[i, j], backt[i, j] = max((score[i-1, j-1]+1, 3), (score[i-1, j], 1), (score[i, j-1], 2))\n",
    "            else:\n",
    "                score[i, j], backt[i, j] = max((score[i-1, j], 1), (score[i, j-1], 2))\n",
    "    return score, backt\n",
    "\n",
    "def LCS(b, v, i, j):\n",
    "    if i == 0 and j == 0:\n",
    "        return ''\n",
    "    elif b[i, j] == 3:\n",
    "        return LCS(b, v, i-1, j-1) + v[i-1]\n",
    "    elif b[i, j] == 2:\n",
    "        return LCS(b, v, i, j-1)\n",
    "    else:\n",
    "        return LCS(b, v, i-1, j)\n",
    "\n",
    "def Alignment(b, v, w, i, j):\n",
    "    if i == 0 and j == 0:\n",
    "        return ['', '']\n",
    "    if b[i, j] == 3:\n",
    "        result = Alignment(b, v, w, i-1, j-1)\n",
    "        result[0] += v[i-1]\n",
    "        result[1] += w[j-1]\n",
    "        return result\n",
    "    if b[i, j] == 2:\n",
    "        result = Alignment(b, v, w, i, j-1)\n",
    "        result[0] += '_'\n",
    "        result[1] += w[j-1]\n",
    "        return result\n",
    "    if b[i, j] == 1:\n",
    "        result = Alignment(b, v, w, i-1, j)\n",
    "        result[0] += v[i-1]\n",
    "        result[1] += '_'\n",
    "        return result"
   ]
  },
  {
   "cell_type": "code",
   "execution_count": 3,
   "metadata": {},
   "outputs": [
    {
     "name": "stdout",
     "output_type": "stream",
     "text": [
      "MALWMRLLPLLALLALWAAAFVNQHLCGSHLVEALYLVCGERGFFYTPKRREEDLQGLQPLALEGLQKRGIVEQCCTSICSLYQLENYCN\n",
      "90\n",
      "\n",
      "h: MALWMRLLPLLALLALWGPDPA_A___AFVNQHLCGSHLVEALYLVCGERGFFYTPKT_RREA_EDLQ_______GS______LQPLALEGS_LQKRGIVEQCCTSICSLYQLENYCN\n",
      "d: MALWMRLLPLLALLALW____APAPTRAFVNQHLCGSHLVEALYLVCGERGFFYTPK_ARRE_VEDLQVRDVELAG_APGEGGLQPLALEG_ALQKRGIVEQCCTSICSLYQLENYCN\n"
     ]
    }
   ],
   "source": [
    "s, b = findLCS(human, dog)\n",
    "lcs = LCS(b, human, b.shape[0]-1, b.shape[1]-1)\n",
    "print(lcs)\n",
    "print(len(lcs))\n",
    "print()\n",
    "align = Alignment(b, human, dog, b.shape[0]-1, b.shape[1]-1)\n",
    "h_align_p1 = align[0]\n",
    "d_align_p1 = align[1]\n",
    "\n",
    "print('h:', h_align_p1)\n",
    "print('d:', d_align_p1)"
   ]
  },
  {
   "cell_type": "markdown",
   "metadata": {
    "number": 2,
    "section": "problem"
   },
   "source": [
    "---\n",
    "**Problem 2:** Find the best *global alignment* between the human and dog insulin assuming the following scoring from the **Alignment Game** described in lecture:\n",
    "\n",
    "* +1 for a match\n",
    "* 0 for a mismatch\n",
    "* -1 for an indel\n",
    "\n",
    "What is score for this alignment and the alignment itself?"
   ]
  },
  {
   "cell_type": "code",
   "execution_count": 4,
   "metadata": {},
   "outputs": [],
   "source": [
    "def GlobalAlignment(v, w, indel):\n",
    "    s = np.zeros((len(v)+1, len(w)+1), dtype='int32')\n",
    "    b = np.zeros((len(v)+1, len(w)+1), dtype='int32')\n",
    "    for i in range(0, len(v)+1):\n",
    "        for j in range(0, len(w)+1):\n",
    "            if j == 0:\n",
    "                if i > 0:\n",
    "                    s[i, j] = s[i-1, j] + indel\n",
    "                    b[i, j] = 1\n",
    "                continue\n",
    "            if i == 0:\n",
    "                s[i, j] = s[i, j-1] + indel\n",
    "                b[i, j] = 2\n",
    "                continue\n",
    "            score = s[i-1, j-1] + (v[i-1] == w[j-1])\n",
    "            vskip = s[i-1, j] + indel\n",
    "            wskip = s[i, j-1] + indel\n",
    "            s[i,j] = max(vskip, wskip, score)\n",
    "            if s[i, j] == vskip:\n",
    "                b[i, j] = 1\n",
    "            elif s[i, j] == wskip:\n",
    "                b[i, j] = 2\n",
    "            else:\n",
    "                b[i, j] = 3\n",
    "    return (s, b)"
   ]
  },
  {
   "cell_type": "code",
   "execution_count": 5,
   "metadata": {},
   "outputs": [
    {
     "name": "stdout",
     "output_type": "stream",
     "text": [
      "Best score = 78\n",
      "\n",
      "h: MALWMRLLPLLALLALWGPDPAAAFVNQHLCGSHLVEALYLVCGERGFFYTPKTRREAEDLQ_______GS_____LQPLALEGSLQKRGIVEQCCTSICSLYQLENYCN\n",
      "d: MALWMRLLPLLALLALWAPAPTRAFVNQHLCGSHLVEALYLVCGERGFFYTPKARREVEDLQVRDVELAGAPGEGGLQPLALEGALQKRGIVEQCCTSICSLYQLENYCN\n"
     ]
    }
   ],
   "source": [
    "s, b = GlobalAlignment(human, dog, -1)\n",
    "print('Best score =', s[-1, -1])\n",
    "print()\n",
    "align = Alignment(b, human, dog, b.shape[0]-1, b.shape[1]-1)\n",
    "h_align_p2 = align[0]\n",
    "d_align_p2 = align[1]\n",
    "\n",
    "print('h:', h_align_p2)\n",
    "print('d:', d_align_p2)"
   ]
  },
  {
   "cell_type": "markdown",
   "metadata": {
    "number": 3,
    "section": "problem"
   },
   "source": [
    "---\n",
    "**Problem 3:** According to the rules of the **Alignment Game**, what score does your alignment from **Problem 1** achieve?"
   ]
  },
  {
   "cell_type": "code",
   "execution_count": 6,
   "metadata": {},
   "outputs": [
    {
     "name": "stdout",
     "output_type": "stream",
     "text": [
      "62\n"
     ]
    }
   ],
   "source": [
    "ha, da = h_align_p1, d_align_p1\n",
    "score = sum([1 if ha[i] == da[i] else -1 if ha[i] == '_' or da[i] == '_' else 0 for i in range(len(ha))])\n",
    "print(score)"
   ]
  },
  {
   "cell_type": "markdown",
   "metadata": {
    "number": 4,
    "section": "problem"
   },
   "source": [
    "---\n",
    "**Problem 4:** Find the longest *embedded* common subsequence in the human insulin sequence.\n",
    "\n",
    "The longest embedded common subsequence is the longest subsequence that appears twice in a single given sequence for which no symbol matches itself. As an example, consider <code>TAGACTAAG</code>. The longest common subsequence is the sequence itself, <code>TAGACTAAG</code>, but the longest *embedded* common subsequence is <code>TAG</code>. "
   ]
  },
  {
   "cell_type": "code",
   "execution_count": 7,
   "metadata": {},
   "outputs": [],
   "source": [
    "def findLECS(v):\n",
    "    score = np.zeros((len(v)+1, len(v)+1), dtype='int32')\n",
    "    backt = np.zeros((len(v)+1, len(v)+1), dtype='int32')\n",
    "    for i in range(1, len(v)+1):\n",
    "        for j in range(1, len(v)+1):\n",
    "            if v[i-1] == v[j-1] and i != j:\n",
    "                score[i, j], backt[i, j] = max((score[i-1, j-1]+1, 3), (score[i-1, j], 1), (score[i, j-1], 2))\n",
    "            else:\n",
    "                score[i, j], backt[i, j] = max((score[i-1, j], 1), (score[i, j-1], 2))\n",
    "    return score, backt\n",
    "\n",
    "def LECS(b, v, i, j):\n",
    "    if i == 0 and j == 0:\n",
    "        return ''\n",
    "    elif b[i, j] == 3:\n",
    "        return LECS(b, v, i-1, j-1) + v[i-1]\n",
    "    elif b[i, j] == 2:\n",
    "        return LECS(b, v, i, j-1)\n",
    "    else:\n",
    "        return LECS(b, v, i-1, j)"
   ]
  },
  {
   "cell_type": "code",
   "execution_count": 8,
   "metadata": {},
   "outputs": [
    {
     "name": "stdout",
     "output_type": "stream",
     "text": [
      "MLLLLLALALGAVCGEGFTREAEGSLQESICSLYN\n"
     ]
    }
   ],
   "source": [
    "s, b = findLECS(human)\n",
    "lecs = LECS(b, human, b.shape[0]-1, b.shape[1]-1)\n",
    "print(lecs)"
   ]
  },
  {
   "cell_type": "code",
   "execution_count": 9,
   "metadata": {},
   "outputs": [
    {
     "name": "stdout",
     "output_type": "stream",
     "text": [
      "MRL_LP___LLA_LLALWGPDPAA_AFVNQHLC_GSHLVE___ALYL___V____CG____ER______GF___FYTPK__TR___REA_EDLQGSLQPLALE___GSLQKRGIV____EQCCT_S_____I____C_SLYQ___LENYC___N___\n",
      "M__AL_WMRLL_PLLAL_______LA_____L_WG_____PDPA___AAFVNQHLCGSHLVE_ALYLVCG_ERGF____FYT_PKTR__RE_________A_EDLQGSLQ_____PLALE____GSLQKRGIVEQCCTS___ICSL__Y_QLENYCN\n"
     ]
    }
   ],
   "source": [
    "# Testing for correctness\n",
    "def AlignmentLECS(b, v, w, i, j):\n",
    "    if b[i, j] == 3:\n",
    "        result = AlignmentLECS(b, v, w, i-1, j-1)\n",
    "        result[0] += v[i-1]\n",
    "        result[1] += w[j-1]\n",
    "        return result\n",
    "    if b[i, j] == 2:\n",
    "        result = AlignmentLECS(b, v, w, i, j-1)\n",
    "        result[0] += '_'\n",
    "        result[1] += w[j-1]\n",
    "        return result\n",
    "    if b[i, j] == 1:\n",
    "        result = AlignmentLECS(b, v, w, i-1, j)\n",
    "        result[0] += v[i-1]\n",
    "        result[1] += '_'\n",
    "        return result\n",
    "    if b[i, j] == 0:\n",
    "        return ['', '']\n",
    "\n",
    "aa, ab = AlignmentLECS(b, human, human, len(human), len(human))\n",
    "print(aa)\n",
    "print(ab)"
   ]
  },
  {
   "cell_type": "code",
   "execution_count": 10,
   "metadata": {},
   "outputs": [
    {
     "name": "stdout",
     "output_type": "stream",
     "text": [
      "MLLLLLALALGAVCGEGFTREAEGSLQESICSLYN\n"
     ]
    }
   ],
   "source": [
    "checker = ''\n",
    "for i in range(len(aa)):\n",
    "    if aa[i] == ab[i]:\n",
    "        checker += aa[i]\n",
    "print(checker)"
   ]
  },
  {
   "cell_type": "markdown",
   "metadata": {
    "number": 5,
    "section": "problem"
   },
   "source": [
    "---\n",
    "**Problem 5:** Output the longest *embedded* common subsequence from the string given in **Problem 4** in the following comma separated format:\n",
    "\n",
    "    positionInFirstSubsequence, positionInSecondSubsequence, commonSymbol\n",
    "\n",
    "with one symbol per line. For <code>TAGACTAAG</code> the output could be:\n",
    "\n",
    "    0, 5, T\n",
    "    1, 7, A\n",
    "    2, 8, G"
   ]
  },
  {
   "cell_type": "code",
   "execution_count": 11,
   "metadata": {},
   "outputs": [],
   "source": [
    "def LECS(b, v, i, j):\n",
    "    if i == 0 and j == 0:\n",
    "        return []\n",
    "    elif b[i, j] == 3:\n",
    "        return LECS(b, v, i-1, j-1) + [(j-1, i-1, v[i-1])]\n",
    "    elif b[i, j] == 2:\n",
    "        return LECS(b, v, i, j-1)\n",
    "    else:\n",
    "        return LECS(b, v, i-1, j)"
   ]
  },
  {
   "cell_type": "code",
   "execution_count": 12,
   "metadata": {},
   "outputs": [
    {
     "name": "stdout",
     "output_type": "stream",
     "text": [
      " 0,  4, M\n",
      " 2,  7, L\n",
      " 6,  9, L\n",
      " 7, 10, L\n",
      " 9, 12, L\n",
      "10, 13, L\n",
      "11, 14, A\n",
      "12, 15, L\n",
      "14, 23, A\n",
      "15, 29, L\n",
      "17, 31, G\n",
      "21, 37, A\n",
      "25, 41, V\n",
      "30, 42, C\n",
      "31, 43, G\n",
      "36, 44, E\n",
      "43, 46, G\n",
      "47, 48, F\n",
      "50, 53, T\n",
      "54, 55, R\n",
      "56, 58, E\n",
      "57, 68, A\n",
      "58, 70, E\n",
      "62, 71, G\n",
      "63, 72, S\n",
      "64, 73, L\n",
      "65, 74, Q\n",
      "70, 80, E\n",
      "72, 85, S\n",
      "78, 86, I\n",
      "83, 87, C\n",
      "85, 88, S\n",
      "89, 92, L\n",
      "90, 95, Y\n",
      "94, 97, N\n"
     ]
    }
   ],
   "source": [
    "s, b = findLECS(human)\n",
    "lecs = LECS(b, human, b.shape[0]-1, b.shape[1]-1)\n",
    "\n",
    "# for t in lecs:\n",
    "#     print('%2d, %2d, %s' % t)\n",
    "\n",
    "for a, b, c in lecs:\n",
    "    print('%2d, %2d, %s' % (a, b, c))"
   ]
  }
 ],
 "metadata": {
  "anaconda-cloud": {},
  "kernelspec": {
   "display_name": "Python 3",
   "language": "python",
   "name": "python3"
  },
  "language_info": {
   "codemirror_mode": {
    "name": "ipython",
    "version": 3
   },
   "file_extension": ".py",
   "mimetype": "text/x-python",
   "name": "python",
   "nbconvert_exporter": "python",
   "pygments_lexer": "ipython3",
   "version": "3.7.4"
  }
 },
 "nbformat": 4,
 "nbformat_minor": 1
}
