{
 "cells": [
  {
   "cell_type": "markdown",
   "metadata": {
    "section": "header"
   },
   "source": [
    "<div style=\"text-align: center;\">\n",
    "<h1>The University of North Carolina at Chapel Hill</h1>\n",
    "<h1>COMP 555 Bioalgorithms Spring 2021</h1>\n",
    "<h1 style=\"font-size: 200%;\">Problem Set 2</h1>\n",
    "</div>"
   ]
  },
  {
   "cell_type": "markdown",
   "metadata": {
    "section": "setup"
   },
   "source": [
    "---\n",
    "You will need a the following sequence collection of gene promoter regions in which you will search for <a href=\"http://csbio.unc.edu/mcmillan/Comp555S21/motifs.fa\" download=\"motifs.fa\">transcription binding factor motifs</a>."
   ]
  },
  {
   "cell_type": "code",
   "execution_count": 1,
   "metadata": {
    "section": "givencode"
   },
   "outputs": [],
   "source": [
    "import itertools\n",
    "import math\n",
    "%matplotlib inline\n",
    "import matplotlib\n",
    "import matplotlib.pyplot as plt\n",
    "\n",
    "def loadFasta(filename):\n",
    "    \"\"\" Parses a classically formatted and possibly compressed\n",
    "        FASTA file into two lists. One of headers and a second\n",
    "        list of sequences. The ith index of each list correspond.\n",
    "    \"\"\"\n",
    "    if filename.endswith('.gz'):\n",
    "        fp = gzip.open(filename, 'r')\n",
    "    else:\n",
    "        fp = open(filename, 'r')\n",
    "    # Split at headers\n",
    "    data = fp.read().split('>')\n",
    "    fp.close()\n",
    "    # Ignore whatever appears before the first header\n",
    "    data.pop(0)     \n",
    "    headers = []\n",
    "    sequences = []\n",
    "    for sequence in data:\n",
    "        lines = sequence.split('\\n')\n",
    "        headers.append(lines.pop(0))\n",
    "        # Add an extra '+' to make string '1-referenced'\n",
    "        sequences.append('+' + ''.join(lines))\n",
    "    return (headers, sequences)\n",
    "\n",
    "def ScanAndScoreMotif(DNA, motif):\n",
    "    totalDist = 0\n",
    "    bestAlignment = []\n",
    "    k = len(motif)\n",
    "    for seq in DNA:\n",
    "        minHammingDist = k+1\n",
    "        for s in range(len(seq)-k+1):\n",
    "            HammingDist = sum([1 for i in range(k) if motif[i] != seq[s+i]])\n",
    "            if HammingDist < minHammingDist:\n",
    "                bestS = s\n",
    "                minHammingDist = HammingDist\n",
    "        bestAlignment.append(bestS)\n",
    "        totalDist += minHammingDist\n",
    "    return bestAlignment, totalDist\n",
    "\n",
    "def MedianStringMotifSearch(DNA, k):\n",
    "    # Consider all possible 4**k motifs\n",
    "    bestAlignment = []\n",
    "    minHammingDist = k*len(DNA)\n",
    "    kmer = ''\n",
    "    for pattern in itertools.product('ACGT', repeat=k):\n",
    "        motif = ''.join(pattern)\n",
    "        align, dist = ScanAndScoreMotif(DNA, motif)\n",
    "        if dist < minHammingDist:\n",
    "            bestAlignment = [p for p in align]\n",
    "            minHammingDist = dist\n",
    "            kmer = motif\n",
    "    return bestAlignment, minHammingDist, kmer\n",
    "\n",
    "def ContainedMotifSearch(DNA, k):\n",
    "    # Consider only motifs from the given DNA sequences\n",
    "    motifSet = set()\n",
    "    for seq in DNA:\n",
    "        for i in range(len(seq)-k+1):\n",
    "            motifSet.add(seq[i:i+k])\n",
    "    print('%d Motifs in our set' % len(motifSet))\n",
    "    bestAlignment = []\n",
    "    minHammingDist = k*len(DNA)\n",
    "    kmer = ''\n",
    "    for motif in motifSet:\n",
    "        align, dist = ScanAndScoreMotif(DNA, motif)\n",
    "        if dist < minHammingDist:\n",
    "            bestAlignment = [s for s in align]\n",
    "            minHammingDist = dist\n",
    "            kmer = motif\n",
    "    return bestAlignment, minHammingDist, kmer"
   ]
  },
  {
   "cell_type": "markdown",
   "metadata": {
    "number": 1,
    "section": "problem"
   },
   "source": [
    "---\n",
    "**Problem 1:** In the cell below use the given <code>**MedianStringMotifSearch()**</code>, and <code>**ScanAndScoreMotif()**</code> functions to find an optimal 10-base motif pattern and its location in each of the 7 given promoter regions in <a href=\"http://csbio.unc.edu/mcmillan/Comp555S21/motifs.fa\" download=\"motifs.fa\">motifs.fa</a>. Based on this result, make a prediction of how long it would have taken to find an optimal 12-base motif."
   ]
  },
  {
   "cell_type": "code",
   "execution_count": 2,
   "metadata": {
    "number": 1,
    "section": "workcode"
   },
   "outputs": [
    {
     "name": "stdout",
     "output_type": "stream",
     "text": [
      "Wall time: 2h 33min 12s\n"
     ]
    },
    {
     "data": {
      "text/plain": [
       "([875, 74, 114, 371, 6, 72, 190], 9, 'AGCCTGGGCA')"
      ]
     },
     "execution_count": 2,
     "metadata": {},
     "output_type": "execute_result"
    }
   ],
   "source": [
    "hdr, dna = loadFasta('data/motifs.fa')\n",
    "%time MedianStringMotifSearch(dna, 10)"
   ]
  },
  {
   "cell_type": "code",
   "execution_count": 3,
   "metadata": {},
   "outputs": [
    {
     "name": "stdout",
     "output_type": "stream",
     "text": [
      "2 days, 1:01:26.400000\n"
     ]
    }
   ],
   "source": [
    "import datetime\n",
    "\n",
    "def revPred(hrs, mins, s):\n",
    "    s = (hrs*60*60) + (mins*60) + s\n",
    "    s = s*16*1.2\n",
    "    return str(datetime.timedelta(seconds=s))\n",
    "\n",
    "print(revPred(2, 33, 12))"
   ]
  },
  {
   "cell_type": "markdown",
   "metadata": {},
   "source": [
    "---\n",
    "<div align=\"center\"><img src=\"data/MinHamDist.PNG\" width=\"600px\"></div>"
   ]
  },
  {
   "cell_type": "markdown",
   "metadata": {
    "number": 2,
    "section": "problem"
   },
   "source": [
    "---\n",
    "**Problem 2:** Given the optimal 10-base motif from **Problem 1**, find an upper bound on the <code>minHammingDist</code> for the optimal 12-base motif. Explain how you arrived at your answer."
   ]
  },
  {
   "cell_type": "markdown",
   "metadata": {
    "number": 2,
    "section": "answer"
   },
   "source": [
    "Since we are looking for an upper bound on the minimum Hamming Distance, we want to find the distribution(s) of bases that produce(s) the most disagreement among the 7 motifs (since we have 7 sequences/promoters) given the optimal 10-base motif, and pick the plurality. For the optimal 11-base motif, for example, we can find a plurality of bases by appending each possible base to the end, or the beginning, of the given 10-base optimal motif at least once. Since we have 4 possible bases and 7 sequences/promoters, this means that three of the bases will be appended twice to the optimal motif as follows:\n",
    "\n",
    "    AGCCTGGGCA + A\n",
    "    AGCCTGGGCA + C\n",
    "    AGCCTGGGCA + G\n",
    "    AGCCTGGGCA + T --> at this point we have appended every possible base;\n",
    "                       now we keep appending in the same order until we have 7 sequences\n",
    "    AGCCTGGGCA + A\n",
    "    AGCCTGGGCA + C\n",
    "    AGCCTGGGCA + G\n",
    "\n",
    "Following this method, we can conclude that for any base-appending order there will be three motifs that repeat twice, and a fourth one that is unique. Therefore, we want to the winning motif among the three repeated ones, meaning that the plurality is equal to 2. This means that the minimum Hamming Distance will be 5 (i.e., the motifs not picked) when adding an extra base to the 10-base optimal motif. However, since the question asks about the optimal 12-base motif (i.e., when adding two extra bases):\n",
    "\n",
    "minHammingDist = 5 (for 11th base) + 5 (for 12th base) + 9 (minHamDist implied in the given 10-base motif) = 19."
   ]
  },
  {
   "cell_type": "markdown",
   "metadata": {
    "number": 3,
    "section": "problem"
   },
   "source": [
    "---\n",
    "**Problem 3:** A simple optimization can be applied to <code>**MedianStringMotifSearch()**</code> as follows: If ever during the <code>**ScanAndScoreMotif()**</code> function the Hamming distance <code>(totalDist</code> in <code>**ScanAndScoreMotif()**)</code>, exceeds the smallest Hamming distance seen thus far <code>(minHammingDist</code> in <code>**MedianStringMotifSearch()**)</code>, scanning through subsequent sequences can be terminated early. Implement this strategy and use it to search again for the best 10-base motif. Note that this optimization requires an additional <code>maxTotal</code> argument to be passed to the <code>**ScanAndScoreMotif()**</code>, and therefore both <code>**MedianStringMotifSearch()**</code> and <code>**ScanAndScoreMotif()**</code> require modification. Run the new optimized version, report its run time, and revise the estimate of how long it might take to find an optimal 12-base motif."
   ]
  },
  {
   "cell_type": "code",
   "execution_count": 4,
   "metadata": {
    "number": 3,
    "section": "workcode"
   },
   "outputs": [],
   "source": [
    "def ScanAndScoreMotif(DNA, motif, maxTotal=1000000):\n",
    "    totalDist = 0\n",
    "    bestAlignment = []\n",
    "    k = len(motif)\n",
    "    for seq in DNA:\n",
    "        minHammingDist = k+1\n",
    "        for s in range(len(seq)-k+1):\n",
    "            HammingDist = sum([1 for i in range(k) if motif[i] != seq[s+i]])\n",
    "            if HammingDist < minHammingDist:\n",
    "                bestS = s\n",
    "                minHammingDist = HammingDist\n",
    "        bestAlignment.append(bestS)\n",
    "        totalDist += minHammingDist\n",
    "        if totalDist > maxTotal:\n",
    "            break\n",
    "    return bestAlignment, totalDist\n",
    "\n",
    "def BetterMedianStringMotifSearch(DNA, k):\n",
    "    bestAlignment = []\n",
    "    minHammingDist = k*len(DNA)\n",
    "    kmer = ''\n",
    "    for pattern in itertools.product('ACGT', repeat=k):\n",
    "        motif = ''.join(pattern)\n",
    "        align, dist = ScanAndScoreMotif(DNA, motif, maxTotal=minHammingDist)\n",
    "        if dist < minHammingDist:\n",
    "            bestAlignment = [p for p in align]\n",
    "            minHammingDist = dist\n",
    "            kmer = motif\n",
    "    return bestAlignment, minHammingDist, kmer"
   ]
  },
  {
   "cell_type": "code",
   "execution_count": 5,
   "metadata": {},
   "outputs": [
    {
     "name": "stdout",
     "output_type": "stream",
     "text": [
      "Wall time: 1h 31min 46s\n"
     ]
    },
    {
     "data": {
      "text/plain": [
       "([875, 74, 114, 371, 6, 72, 190], 9, 'AGCCTGGGCA')"
      ]
     },
     "execution_count": 5,
     "metadata": {},
     "output_type": "execute_result"
    }
   ],
   "source": [
    "%time BetterMedianStringMotifSearch(dna, 10)"
   ]
  },
  {
   "cell_type": "code",
   "execution_count": 6,
   "metadata": {},
   "outputs": [
    {
     "name": "stdout",
     "output_type": "stream",
     "text": [
      "1 day, 5:21:55.200000\n"
     ]
    }
   ],
   "source": [
    "print(revPred(1, 31, 46))"
   ]
  },
  {
   "cell_type": "markdown",
   "metadata": {
    "number": 4,
    "section": "problem"
   },
   "source": [
    "---\n",
    "**Problem 4:** Your upper-bound <code>minHammingDist</code> estimate from **Problem 2** can be used to further accelerate <code>**MedianStringMotifSearch()**</code> as follows: It can be used as the intitial setting of the <code>minHammingDist</code> rather than setting it to <code>k\\*len(DNA)</code> in addition to the changes made in **Problem 3**. In the cell provided below write <code>**EvenBetterMedianMotifSearch(DNA, k, minHammingDist)**</code>, where the extra argument is used to set your upper-bound prediction."
   ]
  },
  {
   "cell_type": "code",
   "execution_count": 7,
   "metadata": {
    "number": 4,
    "section": "answer"
   },
   "outputs": [],
   "source": [
    "def ScanAndScoreMotif(DNA, motif, maxTotal=1000000):\n",
    "    totalDist = 0\n",
    "    bestAlignment = []\n",
    "    k = len(motif)\n",
    "    for seq in DNA:\n",
    "        minHammingDist = k+1\n",
    "        for s in range(len(seq)-k+1):\n",
    "            HammingDist = sum([1 for i in range(k) if motif[i] != seq[s+i]])\n",
    "            if HammingDist < minHammingDist:\n",
    "                bestS = s\n",
    "                minHammingDist = HammingDist\n",
    "        bestAlignment.append(bestS)\n",
    "        totalDist += minHammingDist\n",
    "        if totalDist > maxTotal:\n",
    "            break\n",
    "    return bestAlignment, totalDist\n",
    "\n",
    "def EvenBetterMedianMotifSearch(DNA, k, minHammingDist=-1):\n",
    "    bestAlignment = []\n",
    "    kmer = ''\n",
    "\n",
    "    # Handles the case where no third argument is passed to the function\n",
    "    # and handles the case where minHammingDist is the best choice\n",
    "    minHammingDist = k*len(DNA) if minHammingDist < 0 else minHammingDist + 1\n",
    "\n",
    "    for pattern in itertools.product('ACGT', repeat=k):\n",
    "        motif = ''.join(pattern)\n",
    "        align, dist = ScanAndScoreMotif(DNA, motif, maxTotal=minHammingDist)\n",
    "        if dist < minHammingDist:\n",
    "            bestAlignment = [p for p in align]\n",
    "            minHammingDist = dist\n",
    "            kmer = motif\n",
    "    return bestAlignment, minHammingDist, kmer"
   ]
  },
  {
   "cell_type": "code",
   "execution_count": 8,
   "metadata": {},
   "outputs": [
    {
     "name": "stdout",
     "output_type": "stream",
     "text": [
      "Wall time: 1h 30min 5s\n"
     ]
    },
    {
     "data": {
      "text/plain": [
       "([875, 74, 114, 371, 6, 72, 190], 9, 'AGCCTGGGCA')"
      ]
     },
     "execution_count": 8,
     "metadata": {},
     "output_type": "execute_result"
    }
   ],
   "source": [
    "%time EvenBetterMedianMotifSearch(dna, 10, minHammingDist=19)"
   ]
  },
  {
   "cell_type": "code",
   "execution_count": 9,
   "metadata": {},
   "outputs": [
    {
     "name": "stdout",
     "output_type": "stream",
     "text": [
      "Wall time: 1h 29min 24s\n"
     ]
    },
    {
     "data": {
      "text/plain": [
       "([875, 74, 114, 371, 6, 72, 190], 9, 'AGCCTGGGCA')"
      ]
     },
     "execution_count": 9,
     "metadata": {},
     "output_type": "execute_result"
    }
   ],
   "source": [
    "%time EvenBetterMedianMotifSearch(dna, 10, minHammingDist=9)"
   ]
  },
  {
   "cell_type": "markdown",
   "metadata": {
    "number": 5,
    "section": "problem"
   },
   "source": [
    "---\n",
    "**Problem 5:** The cost of generating the upper bound estimate in **Problem 2** was considerable. An alternative upper bound can be found by running <code>**ContainedMotifSearch()**</code>, which considers only *k*-mers that appear in the given sequences as possible motifs. Use this function with *k* = 12 to establish an alternative upper bound."
   ]
  },
  {
   "cell_type": "code",
   "execution_count": 10,
   "metadata": {},
   "outputs": [
    {
     "name": "stdout",
     "output_type": "stream",
     "text": [
      "3514 Motifs in our set\n",
      "Wall time: 34.5 s\n"
     ]
    },
    {
     "data": {
      "text/plain": [
       "([332, 72, 160, 369, 122, 70, 164], 15, 'TGAGCCTGGGCA')"
      ]
     },
     "execution_count": 10,
     "metadata": {},
     "output_type": "execute_result"
    }
   ],
   "source": [
    "%time ContainedMotifSearch(dna, 12)"
   ]
  }
 ],
 "metadata": {
  "kernelspec": {
   "display_name": "Python 3",
   "language": "python",
   "name": "python3"
  },
  "language_info": {
   "codemirror_mode": {
    "name": "ipython",
    "version": 3
   },
   "file_extension": ".py",
   "mimetype": "text/x-python",
   "name": "python",
   "nbconvert_exporter": "python",
   "pygments_lexer": "ipython3",
   "version": "3.7.4"
  }
 },
 "nbformat": 4,
 "nbformat_minor": 1
}
