{
 "cells": [
  {
   "cell_type": "markdown",
   "metadata": {
    "course": "Comp521F19",
    "problemset": 5,
    "section": "header"
   },
   "source": [
    "<div style=\"text-align: center;\">\n",
    "<h1>The University of North Carolina at Chapel Hill</h1>\n",
    "<h1>COMP 521 Files and Databases Fall 2020</h1>\n",
    "<h1 style=\"font-size: 200%;\">Problem Set 5</h1>\n",
    "</div>"
   ]
  },
  {
   "cell_type": "markdown",
   "metadata": {
    "section": "setup"
   },
   "source": [
    "---\n",
    "In this problem set you will build and experiment with a NoSQL document database using MongoDB. To start you will need to go to the following website: https://docs.mongodb.com/manual/administration/install-community/\n",
    "and follow installation instructions for MongoDB *Community Edition* on your OS.\n",
    "\n",
    "Next you will need to download [covid19.json](http://csbio.unc.edu/mcmillan/Comp521F20/covid19.json) to use as your example database.\n",
    "\n",
    "In order to load this json document as a database use the following command:\n",
    "\n",
    "       $ mongoimport --jsonArray --db=covid19 --collection=counties --file covid19.json\n",
    "\n",
    "Finally, you should be able to start the mongo command shell by typing **mongo** into a command line shell window. The result should resemble the following:\n",
    "\n",
    "        $ mongo\n",
    "        MongoDB shell version: 4.4.1\n",
    "        connecting to: mongodb://127.0.0.1:27017/?compressors=disabled&gssapiServiceName=mongodb\n",
    "        Implicit session: session { \"id\": UUID(\"25ebaf18-9a3c-4687-a3fb-9b3929887754\") }\n",
    "        MongoDB server version: 4.4.1\n",
    "        >\n",
    "\n",
    "As a test, try the following MongoDB commands:\n",
    "\n",
    "        > use covid19\n",
    "        switched to db covid19\n",
    "        > db.counties.count()\n",
    "        3194\n",
    "\n",
    "The schema for this database is a list of documents with the following keys:\n",
    "\n",
    "    {\n",
    "        '_id': 5079,\n",
    "        'name': 'Lincoln County', \n",
    "        'state': 'AR',\n",
    "        'population': 13024,\n",
    "        'cases':  [{'date': '2020-03-16', 'count': 1}, {'date': '2020-03-22', 'count': 1}, \n",
    "                   {'date': '2020-03-24', 'count': 1}, {'date': '2020-03-26', 'count': 2}], \n",
    "        'deaths': [{'date': '2020-03-27', 'count': 1}, {'date': '2020-04-02', 'count': 1}, \n",
    "                   {'date': '2020-05-28', 'count': 2}, {'date': '2020-05-30', 'count': 1}] \n",
    "    }\n",
    "    \n",
    "Where *_id* is the *fips* number that we saw in NCCOVID19.db."
   ]
  },
  {
   "cell_type": "markdown",
   "metadata": {
    "number": 1,
    "section": "problem"
   },
   "source": [
    "---\n",
    "**Problem 1:** Write a MongoDB query to find all states with a county named \"Orange County\". For each output both the state and the population of the county in that state. Copy *both* your query, and the output from your MongoDB query into the answer cell provided below.  "
   ]
  },
  {
   "cell_type": "raw",
   "metadata": {
    "number": 1,
    "section": "answer"
   },
   "source": [
    "db.counties.find({name: \"Orange County\"}, {_id: 0, state: 1, population: 1})\n",
    "\n",
    "\n",
    "{ \"state\" : \"CA\", \"population\" : 3175692 }\n",
    "{ \"state\" : \"FL\", \"population\" : 1393452 }\n",
    "{ \"state\" : \"IN\", \"population\" : 19646 }\n",
    "{ \"state\" : \"NY\", \"population\" : 384940 }\n",
    "{ \"state\" : \"NC\", \"population\" : 148476 }\n",
    "{ \"state\" : \"TX\", \"population\" : 83396 }\n",
    "{ \"state\" : \"VT\", \"population\" : 28892 }\n",
    "{ \"state\" : \"VA\", \"population\" : 37051 }"
   ]
  },
  {
   "cell_type": "markdown",
   "metadata": {
    "number": 2,
    "section": "problem"
   },
   "source": [
    "---\n",
    "**Problem 2:** Write a MongoDB *mapReduce* function to generate a collection of the total number of Covid19 case counts for each state. Generate one record for each state with its two-letter abbreviation and its total number of cases. Copy *both* your mapReduce function, and the output from your MongoDB query into the answer cell provided below.  "
   ]
  },
  {
   "cell_type": "raw",
   "metadata": {
    "number": 2,
    "section": "answer"
   },
   "source": [
    "db.counties.mapReduce(\n",
    "    function() {\n",
    "        emit(this.state, this.cases.map(c => c.count).reduce((a, b) => a + b));\n",
    "    },\n",
    "    function(key, values) {\n",
    "        return Array.sum(values);\n",
    "    },\n",
    "    {\n",
    "        query: {cases: {$exists: true, $ne: []}},\n",
    "        out: \"covid_cases\"\n",
    "    }\n",
    ")\n",
    "db.covid_cases.find({}).sort({_id: 1})\n",
    "\n",
    "\n",
    "{ \"_id\" : \"AK\", \"value\" : 14208 }\n",
    "{ \"_id\" : \"AL\", \"value\" : 188785 }\n",
    "{ \"_id\" : \"AR\", \"value\" : 111770 }\n",
    "{ \"_id\" : \"AZ\", \"value\" : 241196 }\n",
    "{ \"_id\" : \"CA\", \"value\" : 920723 }\n",
    "{ \"_id\" : \"CO\", \"value\" : 101064 }\n",
    "{ \"_id\" : \"CT\", \"value\" : 70628 }\n",
    "{ \"_id\" : \"DC\", \"value\" : 16973 }\n",
    "{ \"_id\" : \"DE\", \"value\" : 25007 }\n",
    "{ \"_id\" : \"FL\", \"value\" : 791380 }\n",
    "{ \"_id\" : \"GA\", \"value\" : 368588 }\n",
    "{ \"_id\" : \"HI\", \"value\" : 14936 }\n",
    "{ \"_id\" : \"IA\", \"value\" : 120061 }\n",
    "{ \"_id\" : \"ID\", \"value\" : 60985 }\n",
    "{ \"_id\" : \"IL\", \"value\" : 390656 }\n",
    "{ \"_id\" : \"IN\", \"value\" : 172546 }\n",
    "{ \"_id\" : \"KS\", \"value\" : 83485 }\n",
    "{ \"_id\" : \"KY\", \"value\" : 101858 }\n",
    "{ \"_id\" : \"LA\", \"value\" : 182143 }\n",
    "{ \"_id\" : \"MA\", \"value\" : 166302 }\n",
    "{ \"_id\" : \"MD\", \"value\" : 142567 }\n",
    "{ \"_id\" : \"ME\", \"value\" : 6557 }\n",
    "{ \"_id\" : \"MI\", \"value\" : 187058 }\n",
    "{ \"_id\" : \"MN\", \"value\" : 143094 }\n",
    "{ \"_id\" : \"MO\", \"value\" : 175937 }\n",
    "{ \"_id\" : \"MS\", \"value\" : 118786 }\n",
    "{ \"_id\" : \"MT\", \"value\" : 29995 }\n",
    "{ \"_id\" : \"NC\", \"value\" : 266383 }\n",
    "{ \"_id\" : \"ND\", \"value\" : 39911 }\n",
    "{ \"_id\" : \"NE\", \"value\" : 66122 }\n",
    "{ \"_id\" : \"NH\", \"value\" : 11026 }\n",
    "{ \"_id\" : \"NJ\", \"value\" : 242897 }\n",
    "{ \"_id\" : \"NM\", \"value\" : 44555 }\n",
    "{ \"_id\" : \"NV\", \"value\" : 98078 }\n",
    "{ \"_id\" : \"NY\", \"value\" : 501169 }\n",
    "{ \"_id\" : \"OH\", \"value\" : 205367 }\n",
    "{ \"_id\" : \"OK\", \"value\" : 119629 }\n",
    "{ \"_id\" : \"OR\", \"value\" : 43241 }\n",
    "{ \"_id\" : \"PA\", \"value\" : 200723 }\n",
    "{ \"_id\" : \"RI\", \"value\" : 36930 }\n",
    "{ \"_id\" : \"SC\", \"value\" : 173534 }\n",
    "{ \"_id\" : \"SD\", \"value\" : 42014 }\n",
    "{ \"_id\" : \"TN\", \"value\" : 261072 }\n",
    "{ \"_id\" : \"TX\", \"value\" : 894666 }\n",
    "{ \"_id\" : \"UT\", \"value\" : 110588 }\n",
    "{ \"_id\" : \"VA\", \"value\" : 176818 }\n",
    "{ \"_id\" : \"VT\", \"value\" : 2236 }\n",
    "{ \"_id\" : \"WA\", \"value\" : 107826 }\n",
    "{ \"_id\" : \"WI\", \"value\" : 221570 }\n",
    "{ \"_id\" : \"WV\", \"value\" : 23100 }\n",
    "{ \"_id\" : \"WY\", \"value\" : 11150 }"
   ]
  },
  {
   "cell_type": "raw",
   "metadata": {},
   "source": [
    "*******************************************************************************************************************************\n",
    "# Aggregation alternative for testing purposes\n",
    "\n",
    "db.counties.aggregate(\n",
    "    [\n",
    "        {$unwind: \"$cases\"},\n",
    "        {$group: {_id: \"$state\", \"covid_cases\": {$sum: \"$cases.count\"}}},\n",
    "        {$sort: {_id: 1}}\n",
    "    ]\n",
    ")\n",
    "*******************************************************************************************************************************"
   ]
  },
  {
   "cell_type": "raw",
   "metadata": {},
   "source": [
    "*******************************************************************************************************************************\n",
    "# A more efficient way using mapReduce\n",
    "\n",
    "db.counties.mapReduce(\n",
    "    function() {\n",
    "        let total = 0;\n",
    "        if (this.cases) {        \n",
    "            for (let i = 0; i < this.cases.length; i++) {\n",
    "                total += this.cases[i].count;\n",
    "            }\n",
    "        }\n",
    "        emit(this.state, total);\n",
    "    },\n",
    "    function(key, values) {\n",
    "        return Array.sum(values);\n",
    "    },\n",
    "    {out: {inline: 1}}\n",
    ")\n",
    "*******************************************************************************************************************************"
   ]
  },
  {
   "cell_type": "markdown",
   "metadata": {
    "number": 3,
    "section": "problem"
   },
   "source": [
    "---\n",
    "**Problem 3:** Write a MongoDB *aggregate* function to generate a population total for each state. Copy *both* your aggregate function, and its output into the answer cell provided below. "
   ]
  },
  {
   "cell_type": "raw",
   "metadata": {
    "number": 3,
    "section": "answer"
   },
   "source": [
    "db.counties.aggregate(\n",
    "    [\n",
    "        {$match: {}},\n",
    "        {$group: {_id: \"$state\", _pop: {$sum: \"$population\"}}},\n",
    "        {$project: {_id: 0, _state: \"$_id\", \"_pop\": 1}},\n",
    "        {$project: {state: \"$_state\", \"population\": \"$_pop\"}},\n",
    "        {$sort: {state: 1}}\n",
    "    ]\n",
    ")\n",
    "\n",
    "\n",
    "{ \"state\" : \"AK\", \"population\" : 731545 }\n",
    "{ \"state\" : \"AL\", \"population\" : 4903185 }\n",
    "{ \"state\" : \"AR\", \"population\" : 3017804 }\n",
    "{ \"state\" : \"AZ\", \"population\" : 7278717 }\n",
    "{ \"state\" : \"CA\", \"population\" : 39512223 }\n",
    "{ \"state\" : \"CO\", \"population\" : 5758736 }\n",
    "{ \"state\" : \"CT\", \"population\" : 3565287 }\n",
    "{ \"state\" : \"DC\", \"population\" : 705749 }\n",
    "{ \"state\" : \"DE\", \"population\" : 973764 }\n",
    "{ \"state\" : \"FL\", \"population\" : 21477737 }\n",
    "{ \"state\" : \"GA\", \"population\" : 10617423 }\n",
    "{ \"state\" : \"HI\", \"population\" : 1415872 }\n",
    "{ \"state\" : \"IA\", \"population\" : 3155070 }\n",
    "{ \"state\" : \"ID\", \"population\" : 1787065 }\n",
    "{ \"state\" : \"IL\", \"population\" : 12671821 }\n",
    "{ \"state\" : \"IN\", \"population\" : 6732219 }\n",
    "{ \"state\" : \"KS\", \"population\" : 2913314 }\n",
    "{ \"state\" : \"KY\", \"population\" : 4467673 }\n",
    "{ \"state\" : \"LA\", \"population\" : 4648794 }\n",
    "{ \"state\" : \"MA\", \"population\" : 6892503 }\n",
    "{ \"state\" : \"MD\", \"population\" : 6045680 }\n",
    "{ \"state\" : \"ME\", \"population\" : 1344212 }\n",
    "{ \"state\" : \"MI\", \"population\" : 9986857 }\n",
    "{ \"state\" : \"MN\", \"population\" : 5639632 }\n",
    "{ \"state\" : \"MO\", \"population\" : 6137428 }\n",
    "{ \"state\" : \"MS\", \"population\" : 2976149 }\n",
    "{ \"state\" : \"MT\", \"population\" : 1068778 }\n",
    "{ \"state\" : \"NC\", \"population\" : 10488084 }\n",
    "{ \"state\" : \"ND\", \"population\" : 762062 }\n",
    "{ \"state\" : \"NE\", \"population\" : 1934408 }\n",
    "{ \"state\" : \"NH\", \"population\" : 1359711 }\n",
    "{ \"state\" : \"NJ\", \"population\" : 8882190 }\n",
    "{ \"state\" : \"NM\", \"population\" : 2096829 }\n",
    "{ \"state\" : \"NV\", \"population\" : 3080156 }\n",
    "{ \"state\" : \"NY\", \"population\" : 19453561 }\n",
    "{ \"state\" : \"OH\", \"population\" : 11689100 }\n",
    "{ \"state\" : \"OK\", \"population\" : 3956971 }\n",
    "{ \"state\" : \"OR\", \"population\" : 4217737 }\n",
    "{ \"state\" : \"PA\", \"population\" : 12801989 }\n",
    "{ \"state\" : \"RI\", \"population\" : 1059361 }\n",
    "{ \"state\" : \"SC\", \"population\" : 5148714 }\n",
    "{ \"state\" : \"SD\", \"population\" : 884659 }\n",
    "{ \"state\" : \"TN\", \"population\" : 6829174 }\n",
    "{ \"state\" : \"TX\", \"population\" : 28995881 }\n",
    "{ \"state\" : \"UT\", \"population\" : 3205958 }\n",
    "{ \"state\" : \"VA\", \"population\" : 8535519 }\n",
    "{ \"state\" : \"VT\", \"population\" : 623989 }\n",
    "{ \"state\" : \"WA\", \"population\" : 7614893 }\n",
    "{ \"state\" : \"WI\", \"population\" : 5822434 }\n",
    "{ \"state\" : \"WV\", \"population\" : 1792147 }\n",
    "{ \"state\" : \"WY\", \"population\" : 578759 }"
   ]
  },
  {
   "cell_type": "markdown",
   "metadata": {
    "number": 4,
    "section": "problem"
   },
   "source": [
    "---\n",
    "**Problem 4:** Write a MongoDB query to find all days where a county reported more than 3500 Covid19 cases in a single day. Each output record should include the name of a county, state, a date, and the number of cases on that date. Copy *both* your query, and its output into the answer cell provided below."
   ]
  },
  {
   "cell_type": "raw",
   "metadata": {
    "number": 4,
    "section": "answer"
   },
   "source": [
    "db.counties.aggregate([\n",
    "    {$match: {\"cases.count\": {$gt: 3500}}},\n",
    "    {$unwind: \"$cases\"},\n",
    "    {$match: {\"cases.count\": {$gt: 3500}}},\n",
    "    {$project: {_id: 0, name: 1, state: 1, \"cases.date\": 1, \"cases.count\": 1}},\n",
    "    {$sort: {_id: 1}}\n",
    "])\n",
    "\n",
    "\n",
    "{ \"name\" : \"Maricopa County\", \"state\" : \"AZ\", \"cases\" : { \"date\" : \"2020-07-01\", \"count\" : 3674 } }\n",
    "{ \"name\" : \"Los Angeles County\", \"state\" : \"CA\", \"cases\" : { \"date\" : \"2020-07-06\", \"count\" : 8903 } }\n",
    "{ \"name\" : \"Los Angeles County\", \"state\" : \"CA\", \"cases\" : { \"date\" : \"2020-07-07\", \"count\" : 3969 } }\n",
    "{ \"name\" : \"Los Angeles County\", \"state\" : \"CA\", \"cases\" : { \"date\" : \"2020-07-14\", \"count\" : 4178 } }\n",
    "{ \"name\" : \"Los Angeles County\", \"state\" : \"CA\", \"cases\" : { \"date\" : \"2020-07-16\", \"count\" : 4459 } }\n",
    "{ \"name\" : \"Los Angeles County\", \"state\" : \"CA\", \"cases\" : { \"date\" : \"2020-07-25\", \"count\" : 3568 } }\n",
    "{ \"name\" : \"Los Angeles County\", \"state\" : \"CA\", \"cases\" : { \"date\" : \"2020-07-29\", \"count\" : 4741 } }\n",
    "{ \"name\" : \"Los Angeles County\", \"state\" : \"CA\", \"cases\" : { \"date\" : \"2020-10-22\", \"count\" : 3579 } }\n",
    "{ \"name\" : \"Miami-Dade County\", \"state\" : \"FL\", \"cases\" : { \"date\" : \"2020-07-12\", \"count\" : 3576 } }\n",
    "{ \"name\" : \"Miami-Dade County\", \"state\" : \"FL\", \"cases\" : { \"date\" : \"2020-08-12\", \"count\" : 4141 } }\n",
    "{ \"name\" : \"Bexar County\", \"state\" : \"TX\", \"cases\" : { \"date\" : \"2020-07-16\", \"count\" : 9589 } }\n",
    "{ \"name\" : \"Dallas County\", \"state\" : \"TX\", \"cases\" : { \"date\" : \"2020-08-17\", \"count\" : 5361 } }\n",
    "{ \"name\" : \"Harris County\", \"state\" : \"TX\", \"cases\" : { \"date\" : \"2020-08-03\", \"count\" : 3678 } }\n",
    "{ \"name\" : \"Harris County\", \"state\" : \"TX\", \"cases\" : { \"date\" : \"2020-09-22\", \"count\" : 14129 } }"
   ]
  },
  {
   "cell_type": "raw",
   "metadata": {},
   "source": [
    "*******************************************************************************************************************************\n",
    "# Another approach, but more complicated\n",
    "\n",
    "db.counties.aggregate([\n",
    "    {$match: {\"cases.count\": {$gt: 3500}}},\n",
    "    {$project: {\n",
    "        cases: {$filter: {\n",
    "            input: \"$cases\",\n",
    "            as: \"cases\",\n",
    "            cond: {$gt: [\"$$cases.count\", 3500]}\n",
    "        }}\n",
    "    }},\n",
    "    {$sort: {_id: 1}}\n",
    "]).map(doc => doc.cases).forEach(function(outer) {\n",
    "    outer.forEach(function(inner) {\n",
    "        printjson(inner);\n",
    "    })\n",
    "})\n",
    "*******************************************************************************************************************************"
   ]
  },
  {
   "cell_type": "markdown",
   "metadata": {
    "number": 5,
    "section": "problem"
   },
   "source": [
    "---\n",
    "**Problem 5:** Write a MongoDB query to find the total number of Covid19 deaths for every county and every state. Your output should include the county's name, its state, the total number of deaths in the database, and the population of each county. Copy *only* the query into the answer cell provided below."
   ]
  },
  {
   "cell_type": "raw",
   "metadata": {
    "number": 5,
    "section": "answer"
   },
   "source": [
    "db.counties.mapReduce(\n",
    "    function() {\n",
    "        emit({county: this.name, state: this.state, population: this.population},\n",
    "                      this.deaths.map(c => c.count).reduce((a, b) => a + b));\n",
    "    },\n",
    "    function(key, values) {\n",
    "        return values[0];\n",
    "    },\n",
    "    {\n",
    "        query: {deaths: {$exists: true, $ne: []}},\n",
    "        out: \"covid_deaths\"\n",
    "    }\n",
    ")\n",
    "db.covid_deaths.find({}).sort({_id: 1})"
   ]
  },
  {
   "cell_type": "raw",
   "metadata": {},
   "source": [
    "*******************************************************************************************************************************\n",
    "# A simpler approach, output is formatted differently\n",
    "\n",
    "db.counties.mapReduce(\n",
    "    function() {\n",
    "        if (this.deaths) {\n",
    "            for (let i = 0; i < this.deaths.length; i++) {\n",
    "                emit(this._id, {state: this.state, county: this.name, pop: this.population, deaths: this.deaths[i].count});\n",
    "            }\n",
    "        }\n",
    "    },\n",
    "    function(key, values) {\n",
    "        let total = 0;\n",
    "        for (let i = 0; i < values.length; i++) {\n",
    "            total += values[i].deaths;\n",
    "        }\n",
    "        return {state: values[0].state, county: values[0].county, pop: values[0].pop, deaths: total};\n",
    "    },\n",
    "    {out: {inline: 1}}\n",
    ")\n",
    "*******************************************************************************************************************************"
   ]
  },
  {
   "cell_type": "raw",
   "metadata": {},
   "source": [
    "*******************************************************************************************************************************\n",
    "# Using aggregation\n",
    "\n",
    "db.counties.aggregate(\n",
    "    [\n",
    "        {$match: {}},\n",
    "        {$unwind: \"$deaths\"},\n",
    "        {$group: {\n",
    "            _id: \"$_id\",\n",
    "            county: {\"$first\": \"$name\"},\n",
    "            state: {\"$first\": \"$state\"},\n",
    "            population: {\"$first\": \"$population\"},\n",
    "            \"deaths\": {$sum: \"$deaths.count\"}\n",
    "        }},\n",
    "        {$project: {\n",
    "            _id: 0,\n",
    "            county: 1,\n",
    "            state: 1,\n",
    "            population: 1,\n",
    "            deaths: 1\n",
    "        }},\n",
    "        {$sort: {_id: 1}}\n",
    "    ]\n",
    ")\n",
    "*******************************************************************************************************************************"
   ]
  }
 ],
 "metadata": {
  "kernelspec": {
   "display_name": "Python 3",
   "language": "python",
   "name": "python3"
  },
  "language_info": {
   "codemirror_mode": {
    "name": "ipython",
    "version": 3
   },
   "file_extension": ".py",
   "mimetype": "text/x-python",
   "name": "python",
   "nbconvert_exporter": "python",
   "pygments_lexer": "ipython3",
   "version": "3.7.4"
  }
 },
 "nbformat": 4,
 "nbformat_minor": 1
}
