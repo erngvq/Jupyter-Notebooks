{
 "cells": [
  {
   "cell_type": "markdown",
   "metadata": {
    "course": "Comp521F19",
    "problemset": 1,
    "section": "header"
   },
   "source": [
    "<div style=\"text-align: center;\">\n",
    "<h1>The University of North Carolina at Chapel Hill</h1>\n",
    "<h1>Files and Databases</h1>\n",
    "<h1 style=\"font-size: 200%;\">Problem Set 1</h1>\n",
    "</div>"
   ]
  },
  {
   "cell_type": "markdown",
   "metadata": {
    "section": "setup"
   },
   "source": [
    "---\n",
    "The following questions relate to designing a schema for COVID19 database.\n",
    "Your primary data is provided in four downloadable text files. The first, is called <a href=\"http://www.csbio.unc.edu/mcmillan/Media/NCDemographics.csv\" download>\"NCDemographics.csv\"</a> and has the following format:\n",
    "\n",
    "<pre><code style=\"font-size:80%;\">\n",
    "fips,County,Region,COG,MSA,Year,Race,Sex,Age 0 to 2,Age 3 to 4,Age 5,Age 6 to 9,Age 10 to 13,Age 14,Age 15,Age 16 to 17,Age 18 to 19,Age 20 to 24,Age 25 to 34,Age 35 to 44,Age 45 to 54,Age 55 to 59,Age 60 to 64,Age 65 to 74,Age 75 to 84,Age 85 to 99,Age 100\n",
    "37045,Cleveland,Western North Carolina,Isothermal Planning and Development Commission,Non-Metropolitan,2000,aian,female,,,,,,,,,,,,,,,,,,,\n",
    "37057,Davidson,Central North Carolina,Piedmont Triad Council of Governments,Winston-Salem,2000,aian,female,14,8,6,19,19,4,6,11,6,27,54,57,45,14,5,9,1,2,0\n",
    "37087,Haywood,Western North Carolina,Southwestern Commission,Asheville,2000,aian,female,,,,,,,,,,,,,,,,,,,\n",
    "37095,Hyde,Eastern North Carolina,Albermarle Commission,Non-Metropolitan,2000,aian,female,,,,,,,,,,,,,,,,,,,\n",
    "37109,Lincoln,Central North Carolina,Centralina Council of Governments,Charlotte-Concord-Gastonia (NC),2000,aian,female,,,,,,,,,,,,,,,,,,,\n",
    "37113,Macon,Western North Carolina,Southwestern Commission,Non-Metropolitan,2000,aian,female,,,,,,,,,,,,,,,,,,,\n",
    "37117,Martin,Eastern North Carolina,Mid-East Commission,Non-Metropolitan,2000,aian,female,,,,,,,,,,,,,,,,,,,\n",
    "37123,Montgomery,Central North Carolina,Piedmont Triad Council of Governments,Non-Metropolitan,2000,aian,female,,,,,,,,,,,,,,,,,,,\n",
    "37125,Moore,Central North Carolina,Triangle J Council of Governments,Non-Metropolitan,2000,aian,female,12,10,8,11,8,1,7,9,5,20,52,40,37,14,12,12,7,2,0\n",
    "</code></pre>\n",
    "\n",
    "This data is provided for the years from 2000 to 2020. It has rows for all combinations of North Carolina Counties, Years, Races, and Sexes. It provides columns that estimate the population size for several age ranges. The *fips* field is a unique County indicator. *Region* partitions the state into 3 parts, *East*, *West* and *Central*. *COG* indicates a regional council of government, and *MSA* indicates a metropolitan area, where they exist, and \"Non-Metropolitan\" otherwise.\n",
    "\n",
    "The second file is called <a href=\"http://www.csbio.unc.edu/mcmillan/Media/NCCOVIDConfirmed.csv\">\"NCCOVIDConfirmed.csv\"</a> and has the following format:\n",
    "\n",
    "<pre><code style=\"font-size:80%;\">\n",
    "fips,County,State,stateFIPS,1/22/20,1/23/20,1/24/20,1/25/20,1/26/20,1/27/20,1/28/20,1/29/20,1/30/20,1/31/20,2/1/20,2/2/20,2/3/20,2/4/20,2/5/20,2/6/20,2/7/20,2/8/20,2/9/20,2/10/20,2/11/20,2/12/20,2/13/20,2/14/20,2/15/20,2/16/20,2/17/20,2/18/20,2/19/20,2/20/20,2/21/20,2/22/20,2/23/20,2/24/20,2/25/20,2/26/20,2/27/20,2/28/20,2/29/20,3/1/20,3/2/20,3/3/20,3/4/20,3/5/20,3/6/20,3/7/20,3/8/20,3/9/20,3/10/20,3/11/20,3/12/20,3/13/20,3/14/20,3/15/20,3/16/20,3/17/20,3/18/20,3/19/20,3/20/20,3/21/20,3/22/20,3/23/20,3/24/20,3/25/20,3/26/20,3/27/20,3/28/20,3/29/20,3/30/20,3/31/20,4/1/20,4/2/20,4/3/20,4/4/20,4/5/20,4/6/20,4/7/20,4/8/20,4/9/20,4/10/20,4/11/20,4/12/20,4/13/20,4/14/20,4/15/20,4/16/20,4/17/20,4/18/20,4/19/20,4/20/20,4/21/20,4/22/20,4/23/20,4/24/20,4/25/20,4/26/20,4/27/20,4/28/20,4/29/20,4/30/20,5/1/20,5/2/20,5/3/20,5/4/20,5/5/20,5/6/20,5/7/20,5/8/20,5/9/20,5/10/20,5/11/20,5/12/20,5/13/20,5/14/20,5/15/20,5/16/20,5/17/20,5/18/20,5/19/20,5/20/20,5/21/20,5/22/20,5/23/20,5/24/20,5/25/20,5/26/20,5/27/20,5/28/20,5/29/20,5/30/20,5/31/20,6/1/20,6/2/20,6/3/20,6/4/20,6/5/20,6/6/20,6/7/20,6/8/20,6/9/20,6/10/20,6/11/20,6/12/20,6/13/20,6/14/20,6/15/20,6/16/20,6/17/20,6/18/20,6/19/20,6/20/20,6/21/20,6/22/20,6/23/20,6/24/20,6/25/20,6/26/20,6/27/20,6/28/20,6/29/20,6/30/20,7/1/20,7/2/20,7/3/20,7/4/20,7/5/20,7/6/20,7/7/20,7/8/20,7/9/20,7/10/20,7/11/20,7/12/20,7/13/20,7/14/20,7/15/20,7/16/20,7/17/20,7/18/20,7/19/20,7/20/20,7/21/20,7/22/20,7/23/20,7/24/20,7/25/20,7/26/20,7/27/20,7/28/20,7/29/20,7/30/20,7/31/20,8/1/20,8/2/20,8/3/20,8/4/20,8/5/20,8/6/20,8/7/20,8/8/20,8/9/20,8/10/20,8/11/20,8/12/20,8/13/20,8/14/20,8/15/20,8/16/20\n",
    "0,Statewide Unallocated,NC,37,0,0,0,0,0,0,0,0,0,0,0,0,0,0,0,0,0,0,0,0,0,0,0,0,0,0,0,0,0,0,0,0,0,0,0,0,0,0,0,0,0,0,0,0,0,0,0,0,0,0,0,0,0,0,0,0,1,1,1,1,5,3,4,4,0,0,0,0,0,0,0,0,0,0,0,0,1,3,3,3,3,3,3,3,3,3,3,3,3,3,3,3,3,3,3,3,3,3,3,3,3,3,3,3,3,3,3,3,3,3,3,3,3,3,3,3,3,3,3,3,1,1,1,2,0,0,0,1,1,1,1,1,2,3,3,209,1,2,2,2,203,203,152,152,0,120,120,155,130,130,0,0,0,0,0,0,3,19,1,1,3,3,3,3,0,0,0,0,0,0,1,0,0,0,0,2,2,2,0,0,0,0,0,0,0,0,0,0,0,0,0,0,0,0,0,0,0,0,0,0,0,0,0,1166,1166,1166,1166,1166\n",
    "37001,Alamance,NC,37,0,0,0,0,0,0,0,0,0,0,0,0,0,0,0,0,0,0,0,0,0,0,0,0,0,0,0,0,0,0,0,0,0,0,0,0,0,0,0,0,0,0,0,0,0,0,0,0,0,0,0,0,0,0,0,0,0,0,0,1,1,2,2,2,4,5,5,6,7,7,7,13,14,16,18,18,24,27,29,33,34,36,40,42,42,45,47,47,49,49,52,55,63,73,77,82,91,92,95,99,106,121,124,126,126,128,143,149,152,172,178,180,181,190,195,203,207,215,223,229,236,246,257,261,274,274,281,293,307,329,329,364,368,382,398,427,451,465,494,519,544,581,641,700,742,778,796,810,838,883,919,939,946,969,994,1009,1032,1066,1088,1114,1121,1151,1179,1207,1240,1274,1292,1309,1319,1357,1388,1401,1428,1460,1492,1535,1569,1607,1648,1684,1718,1755,1809,1842,1896,1920,1954,1973,2029,2066,2101,2148,2189,2207,2248,2280,2298,2343,2365,2396,2448,2472,2496,2496,2567,2586,2612,2639\n",
    "</code></pre>\n",
    "\n",
    "It provides a count of confirmed COVID19 cases in each North Carolina County for a range of days starting from 01/22/20. The data file <a href=\"http://www.csbio.unc.edu/mcmillan/Media/NCCOVIDDeaths.csv\">\"NCCOVIDDeaths.csv\"</a> has the same format, but provides the number of COVID19 associated deaths.\n",
    "\n",
    "A fourth data file <a href=\"http://www.csbio.unc.edu/mcmillan/Media/NCHospitals.csv\" download>\"NCHospitals.csv\"</a> has the following format:\n",
    "<pre><code style=\"font-size:80%;\">\n",
    "Name,County,City,Beds,ICU Beds,Discharges,Days,Revenue ($000)\n",
    "Alamance Regional Medical Center,Alamance,Burlington,212,,\"10,818\",\"38,961\",\"$840,268\"\n",
    "Atrium Health Anson,Anson,Wadesboro,15,,341,750,\"$89,101\"\n",
    "Vidant Beaufort Hospital,Beaufort,Washington,91,,\"2,944\",\"13,751\",\"$220,336\"\n",
    "Novant Health Brunswick Medical Center,Brunswick,Bolivia,61,,\"4,202\",\"15,379\",\"$386,872\"\n",
    "</code></pre>\n",
    "\n",
    "This list gives all hospitals in North Carolina, their county, city, bed count, annual discharges, annual patient days, and annual revenue."
   ]
  },
  {
   "cell_type": "markdown",
   "metadata": {
    "number": 1,
    "section": "problem"
   },
   "source": [
    "---\n",
    "**Problem 1:** How many distinct rows would be populated in a TABLE derived from NCDemographics.csv using the following schema:\n",
    "\n",
    "<table style=\"border-collapse: collapse; border: 1px solid black;\"><tbody>\n",
    "<tr style=\"border-collapse: collapse; border: 1px solid black;\">\n",
    "    <th colspan=\"7\" style=\"text-align:center; background-color: skyblue;\">Demographics</th></tr>\n",
    "<tr style=\"border-collapse: collapse; border: 1px solid black;\">\n",
    "    <td style=\"border-collapse: collapse; border: 1px solid black;\"><u>fips</u></td>\n",
    "    <td style=\"border-collapse: collapse; border: 1px solid black;\"><u>year</u></td>\n",
    "    <td style=\"border-collapse: collapse; border: 1px solid black;\"><u>race</u></td>\n",
    "    <td style=\"border-collapse: collapse; border: 1px solid black;\"><u>sex</u></td>\n",
    "    <td style=\"border-collapse: collapse; border: 1px solid black;\">agelo</td>\n",
    "    <td style=\"border-collapse: collapse; border: 1px solid black;\">agehi</td>\n",
    "    <td style=\"border-collapse: collapse; border: 1px solid black;\">count</td>\n",
    "</tr>\n",
    "</tbody></table>\n",
    "\n",
    "Notice, that there is no need to include table entries for age ranges whose counts are zero with this schema.   "
   ]
  },
  {
   "cell_type": "raw",
   "metadata": {},
   "source": [
    "After ignoring rows with race=\"Total\" and removing 9683 zeros, there are 273455 distinct rows."
   ]
  },
  {
   "cell_type": "markdown",
   "metadata": {
    "number": 2,
    "section": "problem"
   },
   "source": [
    "---\n",
    "**Problem 2:** Assume the following TABLE is used to represent each of the 100 North Carolina counties:\n",
    "\n",
    "<table style=\"border-collapse: collapse; border: 1px solid black;\"><tbody>\n",
    "<tr style=\"border-collapse: collapse; border: 1px solid black;\">\n",
    "    <th colspan=\"5\" style=\"text-align:center; background-color: skyblue;\">County</th></tr>\n",
    "<tr style=\"border-collapse: collapse; border: 1px solid black;\">\n",
    "    <td style=\"border-collapse: collapse; border: 1px solid black;\"><u>fips</u></td>\n",
    "    <td style=\"border-collapse: collapse; border: 1px solid black;\">name</td>\n",
    "    <td style=\"border-collapse: collapse; border: 1px solid black;\">region</td>\n",
    "    <td style=\"border-collapse: collapse; border: 1px solid black;\">cog</td>\n",
    "    <td style=\"border-collapse: collapse; border: 1px solid black;\">msa</td>\n",
    "</tr>\n",
    "</tbody></table>\n",
    "\n",
    "In the space below give CREATE TABLE commands for constructing the *Demograpics* table from **Problem 1** and the *County* table. Include primary and foreign key declarations."
   ]
  },
  {
   "cell_type": "raw",
   "metadata": {
    "number": 2,
    "section": "answer"
   },
   "source": [
    "CREATE TABLE IF NOT EXISTS Demographics (\n",
    "    fips INTEGER,\n",
    "    year INTEGER,\n",
    "    race TEXT,\n",
    "    sex TEXT,\n",
    "    agelo INTEGER,\n",
    "    agehi INTEGER,\n",
    "    count INTEGER,\n",
    "    PRIMARY KEY(fips, year, race, sex, agelo),\n",
    "    FOREIGN KEY(fips) REFERENCES County(fips))\n",
    "\n",
    "CREATE TABLE IF NOT EXISTS County (\n",
    "    fips INTEGER PRIMARY KEY,\n",
    "    name TEXT,\n",
    "    region TEXT,\n",
    "    cog TEXT,\n",
    "    msa TEXT)"
   ]
  },
  {
   "cell_type": "markdown",
   "metadata": {
    "case": 10,
    "number": 3,
    "section": "problem"
   },
   "source": [
    "---\n",
    "**Problem 3:** Give your own design that combines the COVID19 confirmed cases and deaths for each county-date combination in single TABLE called COVID19. Specify your answer with a CREATE TABLE command. Once again, include primary and foreign key declarations. For your conveniece assume the dialect of SQL we are using provides a *DATE* data type."
   ]
  },
  {
   "cell_type": "raw",
   "metadata": {
    "number": 3,
    "section": "answer"
   },
   "source": [
    "CREATE TABLE IF NOT EXISTS Covid19 (\n",
    "    fips INTEGER,\n",
    "    date DATETIME,\n",
    "    cases INTEGER DEFAULT 0,\n",
    "    deaths INTEGER DEFAULT 0,\n",
    "    PRIMARY KEY(fips, date),\n",
    "    FOREIGN KEY(fips) REFERENCES County(fips))"
   ]
  },
  {
   "cell_type": "markdown",
   "metadata": {
    "number": 4,
    "section": "problem"
   },
   "source": [
    "---\n",
    "**Problem 4:** Give designs for a **Hospital** *entity* table and a **HospitalCounty** *relation* table. **HospitalCounty** connects a **Hospital** to a **County**. Consider the following issues in your design. The names of Hospitals change frequently as they are aquired and reaquired by various corporate and state health conglomerates. Therefore, you should include a hospital identifier, *hid*, for use as a primary-key field in your table to allow for future name changes. Also, the data entries in this table might not be formatted optimally for most appropriate data-type needed for analysis, thus, you can assume that table entries will be converted programmaticaly into a more useful data type when the table is loaded via INSERT commands. Specify your answer as two CREATE TABLE commands while including primary and foreign key declarations."
   ]
  },
  {
   "cell_type": "raw",
   "metadata": {
    "number": 4,
    "section": "answer"
   },
   "source": [
    "CREATE TABLE IF NOT EXISTS Hospital (\n",
    "    hid INTEGER PRIMARY KEY,\n",
    "    name TEXT,\n",
    "    city TEXT,\n",
    "    beds INTEGER,\n",
    "    icu INTEGER,\n",
    "    discharges INTEGER,\n",
    "    patientdays INTEGER,\n",
    "    revenue REAL)\n",
    "\n",
    "CREATE TABLE IF NOT EXISTS HospitalCounty (\n",
    "    hid INTEGER PRIMARY KEY,\n",
    "    fips INTEGER,\n",
    "    FOREIGN KEY(hid) REFERENCES Hospital(hid),\n",
    "    FOREIGN KEY(fips) REFERENCES County(fips))"
   ]
  },
  {
   "cell_type": "markdown",
   "metadata": {
    "number": 5,
    "section": "problem"
   },
   "source": [
    "---\n",
    "**Problem 5:** Note that the *HospitalCounty* relation as represented in the table \"NCHospitals.csv\" is many-to-one (many hospitals can be in the same county). However, your customer would like to increase the utility of this table by including information about the *counties served* by each hospital in addition to the county where the hospital resides. This is a many-to-many relationship. How would this change impact your TABLE designs from **Problem 4**?  (Note: Your customer would still wants to track the county where each hospital resides)."
   ]
  },
  {
   "cell_type": "raw",
   "metadata": {
    "number": 5,
    "section": "answer"
   },
   "source": [
    "CREATE TABLE HospitalCounty (\n",
    "    hid INTEGER,\n",
    "    fips INTEGER,\n",
    "    incounty INTEGER,       -- is 1 if hospital is located in county, 0 if it serves it\n",
    "    PRIMARY KEY(hid, fips), -- one serve/located per hospital-county combination\n",
    "    FOREIGN KEY(hid) REFERENCES Hospital(hid),\n",
    "    FOREIGN KEY(fips) REFERENCES County(fips))"
   ]
  },
  {
   "cell_type": "markdown",
   "metadata": {
    "section": "setup"
   },
   "source": [
    "Use programmatic methods like those demonstrated in **Lecture 3** to answer the following series of questions. You should need only Python and to import the pandas library."
   ]
  },
  {
   "cell_type": "markdown",
   "metadata": {
    "number": 6,
    "section": "problem"
   },
   "source": [
    "---\n",
    "**Problem 6:** What 10 counties have the highest percentage of residents over 65 years of age? Provide both the county's name and percentage."
   ]
  },
  {
   "cell_type": "raw",
   "metadata": {
    "case": 19,
    "key": "entity",
    "number": 6,
    "section": "answer"
   },
   "source": [
    "Transylvania 32.40\n",
    "Clay         31.13\n",
    "Brunswick    30.93\n",
    "Polk         30.78\n",
    "Cherokee     30.62\n",
    "Pamlico      30.10\n",
    "Macon        29.36\n",
    "Perquimans   28.35\n",
    "Henderson    27.43\n",
    "Moore        26.86"
   ]
  },
  {
   "cell_type": "markdown",
   "metadata": {
    "number": 7,
    "section": "problem"
   },
   "source": [
    "---\n",
    "**Problem 7:** What counties in North Carolina do not have a hospital? Provide each county's name, population, and non-white population percentage."
   ]
  },
  {
   "cell_type": "raw",
   "metadata": {
    "number": 7,
    "section": "answer"
   },
   "source": [
    "      county, pop(Total), per(Total), pop(sum), per(sum)\n",
    "   Alexander,      38755,       8.5%,    38135,     7.0%\n",
    "   Alleghany,      11510,       4.1%,    11027,     0.0%\n",
    "        Ashe,      28150,       3.0%,    27503,     0.7%\n",
    "       Avery,      18035,       6.2%,    17576,     3.8%\n",
    "      Bertie,      19601,      64.1%,    19022,    63.1%\n",
    "      Bladen,      34444,      38.3%,    34339,    38.1%\n",
    "      Camden,      10717,      19.0%,    10067,    13.8%\n",
    "     Caswell,      23666,      35.7%,    23429,    35.1%\n",
    "     Chatham,      77713,      16.8%,    77713,    16.8%\n",
    "    Cherokee,      29972,       7.3%,    29540,     5.9%\n",
    "      Chowan,      14074,      35.0%,    13664,    33.0%\n",
    "        Clay,      12058,       3.0%,    11696,     0.0%\n",
    "   Currituck,      27952,      10.2%,    27698,     9.4%\n",
    "        Dare,      37560,       6.9%,    37122,     5.8%\n",
    "    Franklin,      70212,      28.7%,    70212,    28.7%\n",
    "       Gates,      12165,      36.5%,    11709,    34.0%\n",
    "      Graham,       8686,       9.7%,     8408,     6.7%\n",
    "      Greene,      21051,      39.8%,    20514,    38.3%\n",
    "        Hyde,       5156,      32.0%,     5005,    29.9%\n",
    "       Jones,      10194,      32.1%,     9714,    28.7%\n",
    "       Macon,      36897,       4.9%,    36405,     3.6%\n",
    "     Madison,      22843,       4.1%,    22548,     2.9%\n",
    "    Mitchell,      15258,       3.8%,    14667,     0.0%\n",
    "  Montgomery,      27712,      21.5%,    27426,    20.6%\n",
    "        Nash,      95923,      45.4%,    95923,    45.4%\n",
    " Northampton,      20258,      60.6%,    19791,    59.7%\n",
    "     Pamlico,      13283,      20.6%,    12894,    18.2%\n",
    "      Pender,      64578,      18.6%,    64578,    18.6%\n",
    "  Perquimans,      13637,      27.4%,    13272,    25.4%\n",
    "        Polk,      21852,       7.0%,    21370,     4.9%\n",
    "      Stokes,      46360,       6.0%,    45973,     5.2%\n",
    "Transylvania,      35806,       6.7%,    35457,     5.8%\n",
    "     Tyrrell,       4260,      42.3%,     4018,    38.9%\n",
    "      Warren,      19898,      59.3%,    19810,    59.1%\n",
    "  Washington,      11987,      55.3%,    11599,    53.8%\n",
    "      Yadkin,      38236,       5.7%,    37721,     4.4%\n",
    "      Yancey,      18794,       3.7%,    18086,     0.0%"
   ]
  },
  {
   "cell_type": "markdown",
   "metadata": {
    "number": 9,
    "section": "problem"
   },
   "source": [
    "---\n",
    "**Problem 8:** Give a breakdown of COVID19 cases, deaths, and hospitals by geographic region. For each of the geographic regions output the accumulated sum of COVID19 cases and deaths since January 22, 2020, as well as the number of hospital beds in that region."
   ]
  },
  {
   "cell_type": "raw",
   "metadata": {},
   "source": [
    " Region   Cases   Deaths   Beds\n",
    "Western   16272      313   2813\n",
    "Central   90377     1395   13766\n",
    "Eastern   38303      639   5857"
   ]
  },
  {
   "cell_type": "markdown",
   "metadata": {
    "number": 10,
    "section": "problem"
   },
   "source": [
    "---\n",
    "**Problem 9:** Suppose that COVID19 data was released on a case-by-case basis with attributes for home county, age, sex, and race, and outcome (death, hospitalized, recovered). What changes would make to the tables given in **Problems 1-5** to capture this information."
   ]
  },
  {
   "cell_type": "raw",
   "metadata": {
    "number": 10,
    "section": "answer"
   },
   "source": [
    "Only the Covid19 table would change; first add a CovidCase table as follows:\n",
    "\n",
    "CREATE TABLE CovidCase (\n",
    "    fips INTEGER,\n",
    "    sex TEXT,\n",
    "    race TEXT,\n",
    "    date DATE,\n",
    "    outcome TEXT,\n",
    "    age INTEGER,\n",
    "    FOREIGN KEY(fips) REFERENCES County(fips))\n",
    "\n",
    "And we would not want any primary key since repeats should be allowed\n",
    "Also we could provide a backward compatible view:\n",
    "\n",
    "CREATE VIEW Covid19 AS\n",
    "    SELECT C.fips, C.date, C.cases, D.deaths\n",
    "    FROM (SELECT fips, date, COUNT(*) AS cases FROM CovidCases WHERE outcome<>'death' GROUP BY fips, date) AS C,\n",
    "         (SELECT fips, date, COUNT(*) AS deaths FROM CovidCases WHERE outcome='death' GROUP BY fips, date) AS D\n",
    "    WHERE C.fips=D.fips AND C.date=D.date"
   ]
  }
 ],
 "metadata": {
  "kernelspec": {
   "display_name": "Python 3",
   "language": "python",
   "name": "python3"
  },
  "language_info": {
   "codemirror_mode": {
    "name": "ipython",
    "version": 3
   },
   "file_extension": ".py",
   "mimetype": "text/x-python",
   "name": "python",
   "nbconvert_exporter": "python",
   "pygments_lexer": "ipython3",
   "version": "3.7.4"
  }
 },
 "nbformat": 4,
 "nbformat_minor": 1
}
