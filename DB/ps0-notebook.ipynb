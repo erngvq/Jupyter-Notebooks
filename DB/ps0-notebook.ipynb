{
 "cells": [
  {
   "cell_type": "markdown",
   "metadata": {},
   "source": [
    "<div style=\"text-align: center;\">\n",
    "<h1>The University of North Carolina at Chapel Hill</h1>\n",
    "<h1>COMP 521 Files and Databases Fall 2020</h1>\n",
    "<h1 style=\"font-size: 200%;\">Problem Set 0</h1>\n",
    "</div>"
   ]
  },
  {
   "cell_type": "markdown",
   "metadata": {},
   "source": [
    "---\n",
    "For this assignment you have relations with these schemas:\n",
    "\n",
    "```sql\n",
    "CREATE TABLE Department (\n",
    "    did INTEGER PRIMARY KEY,\n",
    "    name TEXT\n",
    ")\n",
    "\n",
    "CREATE TABLE Course (\n",
    "    cid INTEGER PRIMARY KEY,\n",
    "    did INTEGER,\n",
    "    name TEXT,\n",
    "    num INTEGER,\n",
    "    creditHours INTEGER,\n",
    "    FOREIGN KEY(did) REFERENCES Department\n",
    ")\n",
    "\n",
    "CREATE TABLE Student (\n",
    "    sid INTEGER PRIMARY KEY,\n",
    "    did INTEGER,\n",
    "    fname TEXT,\n",
    "    lname TEXT,\n",
    "    FOREIGN KEY(did) REFERENCES Department\n",
    ")\n",
    "\n",
    "CREATE TABLE Enrolled_in (\n",
    "    eid INTEGER PRIMARY KEY,\n",
    "    sid INTEGER,\n",
    "    cid INTEGER,\n",
    "    FOREIGN KEY(sid) REFERENCES Student,\n",
    "    FOREIGN KEY(cid) REFERENCES Course\n",
    ")\n",
    "```"
   ]
  },
  {
   "cell_type": "code",
   "execution_count": 1,
   "metadata": {},
   "outputs": [],
   "source": [
    "import script\n",
    "import sqlite3\n",
    "\n",
    "check, report = script.start('picklezero')"
   ]
  },
  {
   "cell_type": "code",
   "execution_count": 2,
   "metadata": {},
   "outputs": [],
   "source": [
    "db = sqlite3.connect('CourseEnrollment.sqlite')\n",
    "cursor = db.cursor()"
   ]
  },
  {
   "cell_type": "markdown",
   "metadata": {},
   "source": [
    "---\n",
    "For the next three questions write a SQL query that produces a result that is equivalent to the Relational Algebra expression.\n",
    "\n",
    "### Question 1\n",
    "\n",
    "Translate this Relational Algebra expression into SQL: $\\pi_{name} \\sigma_{num < 500}(Course)$"
   ]
  },
  {
   "cell_type": "code",
   "execution_count": 3,
   "metadata": {},
   "outputs": [
    {
     "name": "stdout",
     "output_type": "stream",
     "text": [
      "Q1 appears correct\n"
     ]
    }
   ],
   "source": [
    "sql1 = \"\"\"SELECT Course.name FROM Course WHERE Course.num<500\"\"\"\n",
    "\n",
    "cursor.execute(sql1)\n",
    "c1 = cursor.fetchall()\n",
    "check('Q1', c1, points=5, sort=True)"
   ]
  },
  {
   "cell_type": "markdown",
   "metadata": {},
   "source": [
    "---\n",
    "### Question 2\n",
    "\n",
    "$\\pi_{fname,lname}\\sigma_{name='Files\\ and\\ Databases'}(Student\\bowtie Enrolled\\_in \\bowtie Course)$"
   ]
  },
  {
   "cell_type": "code",
   "execution_count": 4,
   "metadata": {},
   "outputs": [
    {
     "name": "stdout",
     "output_type": "stream",
     "text": [
      "Q2 appears correct\n"
     ]
    }
   ],
   "source": [
    "sql2 = \"\"\"SELECT Student.fname, Student.lname\n",
    "          FROM Student, Enrolled_in, Course\n",
    "          WHERE Course.cid=Enrolled_in.cid AND\n",
    "                Enrolled_in.sid=Student.sid AND\n",
    "                Course.name='Files and Databases'\"\"\"\n",
    "\n",
    "cursor.execute(sql2)\n",
    "c2 = cursor.fetchall()\n",
    "check('Q2', c2, points=5, sort=True)"
   ]
  },
  {
   "cell_type": "markdown",
   "metadata": {},
   "source": [
    "---\n",
    "### Question 3\n",
    "\n",
    "$\\pi_{fname,lname} \\sigma_{name='ANTH'}(Student \\bowtie Department)$"
   ]
  },
  {
   "cell_type": "code",
   "execution_count": 5,
   "metadata": {},
   "outputs": [
    {
     "name": "stdout",
     "output_type": "stream",
     "text": [
      "Q3 appears correct\n"
     ]
    }
   ],
   "source": [
    "sql3 = \"\"\"SELECT Student.fname, Student.lname\n",
    "          FROM Student, Department\n",
    "          WHERE Student.did=Department.did AND Department.name='ANTH'\"\"\"\n",
    "\n",
    "cursor.execute(sql3)\n",
    "c3 = cursor.fetchall()\n",
    "check('Q3', c3, points=5, sort=True)"
   ]
  },
  {
   "cell_type": "markdown",
   "metadata": {},
   "source": [
    "---\n",
    "### Question 4\n",
    "\n",
    "$\\pi_{name} \\sigma_{creditHours=3}(Course)$"
   ]
  },
  {
   "cell_type": "code",
   "execution_count": 6,
   "metadata": {},
   "outputs": [
    {
     "name": "stdout",
     "output_type": "stream",
     "text": [
      "Q4 appears correct\n"
     ]
    }
   ],
   "source": [
    "sql4 = \"\"\"SELECT Course.name FROM Course WHERE creditHours=3\"\"\"\n",
    "\n",
    "cursor.execute(sql4)\n",
    "c4 = cursor.fetchall()\n",
    "check('Q4', c4, points=5, sort=True)"
   ]
  },
  {
   "cell_type": "markdown",
   "metadata": {},
   "source": [
    "---\n",
    "For these next questions, write a SQL query to fetch the requested information. From here on, I want you\n",
    "to write the Python code as well as the query.\n",
    "\n",
    "### Question 5\n",
    "\n",
    "Find the names of all 4 credit hour courses."
   ]
  },
  {
   "cell_type": "code",
   "execution_count": 7,
   "metadata": {},
   "outputs": [
    {
     "name": "stdout",
     "output_type": "stream",
     "text": [
      "Q5 appears correct\n"
     ]
    }
   ],
   "source": [
    "c5 = cursor.execute(\"\"\"SELECT Course.name FROM Course WHERE creditHours=4\"\"\").fetchall()\n",
    "\n",
    "check('Q5', c5, points=10, sort=True)"
   ]
  },
  {
   "cell_type": "markdown",
   "metadata": {},
   "source": [
    "---\n",
    "### Question 6\n",
    "\n",
    "Find the first and last names of all students enrolled in COMP courses."
   ]
  },
  {
   "cell_type": "code",
   "execution_count": 8,
   "metadata": {},
   "outputs": [
    {
     "name": "stdout",
     "output_type": "stream",
     "text": [
      "Q6 appears correct\n"
     ]
    }
   ],
   "source": [
    "c6 = cursor.execute(\"\"\"SELECT DISTINCT Student.fname, Student.lname\n",
    "                       FROM Student, Enrolled_in, Course, Department\n",
    "                       WHERE Department.did=Course.did AND\n",
    "                             Course.cid=Enrolled_in.cid AND\n",
    "                             Enrolled_in.sid=Student.sid AND\n",
    "                             Department.name='COMP'\"\"\").fetchall()\n",
    "\n",
    "check('Q6', c6, points=10, sort=True)"
   ]
  },
  {
   "cell_type": "markdown",
   "metadata": {},
   "source": [
    "---\n",
    "### Question 7\n",
    "\n",
    "Find the first and last names of all students enrolled in courses of at least 500 level."
   ]
  },
  {
   "cell_type": "code",
   "execution_count": 9,
   "metadata": {},
   "outputs": [
    {
     "name": "stdout",
     "output_type": "stream",
     "text": [
      "Q7 appears correct\n"
     ]
    }
   ],
   "source": [
    "c7 = cursor.execute(\"\"\"SELECT DISTINCT Student.fname, Student.lname\n",
    "                       FROM Student, Enrolled_in, Course\n",
    "                       WHERE Course.cid=Enrolled_in.cid AND\n",
    "                             Enrolled_in.sid=Student.sid AND\n",
    "                             Course.num>=500\"\"\").fetchall()\n",
    "\n",
    "check('Q7', c7, points=10, sort=True)"
   ]
  },
  {
   "cell_type": "markdown",
   "metadata": {},
   "source": [
    "---\n",
    "### Question 8\n",
    "\n",
    "Find the first and last names of all students enrolled in 'Data Structures' and 'Anthropology of the Body and the Subject'."
   ]
  },
  {
   "cell_type": "code",
   "execution_count": 10,
   "metadata": {},
   "outputs": [
    {
     "name": "stdout",
     "output_type": "stream",
     "text": [
      "Q8 appears correct\n"
     ]
    }
   ],
   "source": [
    "c8 = cursor.execute(\"\"\"SELECT DISTINCT Student.fname, Student.lname\n",
    "                        FROM Student, Enrolled_in Ei1, Enrolled_in Ei2, Course C1, Course C2\n",
    "                        WHERE Ei1.sid=Student.sid AND Ei2.sid=Student.sid AND\n",
    "                              Ei1.cid=C1.cid AND C1.name='Data Structures' AND\n",
    "                              Ei2.cid=C2.cid AND C2.name='Anthropology of the Body and the Subject'\"\"\").fetchall()\n",
    "\n",
    "check('Q8', c8, points=15, sort=True)"
   ]
  }
 ],
 "metadata": {
  "kernelspec": {
   "display_name": "Python 3",
   "language": "python",
   "name": "python3"
  },
  "language_info": {
   "codemirror_mode": {
    "name": "ipython",
    "version": 3
   },
   "file_extension": ".py",
   "mimetype": "text/x-python",
   "name": "python",
   "nbconvert_exporter": "python",
   "pygments_lexer": "ipython3",
   "version": "3.7.4"
  },
  "toc": {
   "base_numbering": 1,
   "nav_menu": {},
   "number_sections": true,
   "sideBar": true,
   "skip_h1_title": false,
   "title_cell": "Table of Contents",
   "title_sidebar": "Contents",
   "toc_cell": false,
   "toc_position": {},
   "toc_section_display": true,
   "toc_window_display": false
  }
 },
 "nbformat": 4,
 "nbformat_minor": 1
}
