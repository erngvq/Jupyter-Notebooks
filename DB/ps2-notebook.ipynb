{
 "cells": [
  {
   "cell_type": "markdown",
   "metadata": {
    "course": "Comp521F19",
    "problemset": 2,
    "section": "header"
   },
   "source": [
    "<div style=\"text-align: center;\">\n",
    "<h1>The University of North Carolina at Chapel Hill</h1>\n",
    "<h1>Files and Databases</h1>\n",
    "<h1 style=\"font-size: 200%;\">Problem Set 2</h1>\n",
    "</div>"
   ]
  },
  {
   "cell_type": "markdown",
   "metadata": {
    "section": "setup"
   },
   "source": [
    "---\n",
    "In the following questions you are asked to write a single SQL query to find the requested results from a database derived from demographic, COVID19, and hospital data. The database has the following tables:\n",
    "<table style=\"border:none;\"><tbody>\n",
    "        <tr style=\"border:none;\">\n",
    "            <td style=\"padding:0px 20px;border:none;\" colspan=\"2\">\n",
    "            <table style=\"border-collapse: collapse; border: 1px solid black;\"><tbody>\n",
    "            <tr style=\"border-collapse: collapse; border: 1px solid black;\">\n",
    "                <th colspan=\"7\" style=\"text-align:center; background-color: skyblue;\">Demographics</th></tr>\n",
    "            <tr style=\"border-collapse: collapse; border: 1px solid black;\">\n",
    "                <td style=\"border-collapse: collapse; border: 1px solid black;\"><u>fips</u></td>\n",
    "                <td style=\"border-collapse: collapse; border: 1px solid black;\"><u>year</u></td>\n",
    "                <td style=\"border-collapse: collapse; border: 1px solid black;\"><u>race</u></td>\n",
    "                <td style=\"border-collapse: collapse; border: 1px solid black;\"><u>sex</u></td>\n",
    "                <td style=\"border-collapse: collapse; border: 1px solid black;\"><u>agelo</u></td>\n",
    "                <td style=\"border-collapse: collapse; border: 1px solid black;\">agehi</td>\n",
    "                <td style=\"border-collapse: collapse; border: 1px solid black;\">count</td>\n",
    "            </tr>\n",
    "            </tbody></table>\n",
    "            </td>\n",
    "            <td style=\"padding:0px 20px;border:none;\" colspan=\"2\">\n",
    "            <table style=\"border-collapse: collapse; border: 1px solid black;\"><tbody>\n",
    "            <tr style=\"border-collapse: collapse; border: 1px solid black;\">\n",
    "                <th colspan=\"5\" style=\"text-align:center; background-color: skyblue;\">County</th></tr>\n",
    "            <tr style=\"border-collapse: collapse; border: 1px solid black;\">\n",
    "                <td style=\"border-collapse: collapse; border: 1px solid black;\"><u>fips</u></td>\n",
    "                <td style=\"border-collapse: collapse; border: 1px solid black;\">name</td>\n",
    "                <td style=\"border-collapse: collapse; border: 1px solid black;\">region</td>\n",
    "                <td style=\"border-collapse: collapse; border: 1px solid black;\">cog</td>\n",
    "                <td style=\"border-collapse: collapse; border: 1px solid black;\">msa</td>\n",
    "            </tr>\n",
    "            </tbody></table>\n",
    "            </td>\n",
    "            <td style=\"padding:0px 20px;border:none;\" colspan=\"2\">\n",
    "            <table style=\"border-collapse: collapse; border: 1px solid black;\"><tbody>\n",
    "            <tr style=\"border-collapse: collapse; border: 1px solid black;\">\n",
    "                <th colspan=\"4\" style=\"text-align:center; background-color: skyblue;\">Covid19</th></tr>\n",
    "            <tr style=\"border-collapse: collapse; border: 1px solid black;\">\n",
    "                <td style=\"border-collapse: collapse; border: 1px solid black;\"><u>fips</u></td>\n",
    "                <td style=\"border-collapse: collapse; border: 1px solid black;\"><u>date</u></td>\n",
    "                <td style=\"border-collapse: collapse; border: 1px solid black;\">cases</td>\n",
    "                <td style=\"border-collapse: collapse; border: 1px solid black;\">deaths</td>\n",
    "            </tr>\n",
    "            </tbody></table>\n",
    "            </td>\n",
    "        </tr>\n",
    "        <tr style=\"border:none;\">\n",
    "            <td colspan=\"6\" style=\"border:none;\">&nbsp;</td>\n",
    "        </tr>\n",
    "        <tr style=\"border:none;\">\n",
    "            <td style=\"padding:0px 20px;border:none;\"  colspan=\"3\">\n",
    "            <table style=\"border-collapse: collapse; border: 1px solid black;\"><tbody>\n",
    "            <tr style=\"border-collapse: collapse; border: 1px solid black;\">\n",
    "                <th colspan=\"8\" style=\"text-align:center; background-color: skyblue;\">Hospital</th></tr>\n",
    "            <tr style=\"border-collapse: collapse; border: 1px solid black;\">\n",
    "                <td style=\"border-collapse: collapse; border: 1px solid black;\"><u>hid</u></td>\n",
    "                <td style=\"border-collapse: collapse; border: 1px solid black;\">name</td>\n",
    "                <td style=\"border-collapse: collapse; border: 1px solid black;\">city</td>\n",
    "                <td style=\"border-collapse: collapse; border: 1px solid black;\">beds</td>\n",
    "                <td style=\"border-collapse: collapse; border: 1px solid black;\">icu</td>\n",
    "                <td style=\"border-collapse: collapse; border: 1px solid black;\">discharges</td>\n",
    "                <td style=\"border-collapse: collapse; border: 1px solid black;\">patientdays</td>\n",
    "                <td style=\"border-collapse: collapse; border: 1px solid black;\">revenue</td>\n",
    "            </tr>\n",
    "            </tbody></table>\n",
    "            </td>\n",
    "            <td style=\"padding:0px 20px;border:none;\" colspan=\"3\">\n",
    "            <table style=\"border-collapse: collapse; border: 1px solid black;\"><tbody>\n",
    "            <tr style=\"border-collapse: collapse; border: 1px solid black;\">\n",
    "                <th colspan=\"3\" style=\"text-align:center; background-color: skyblue;\">HospitalCounty</th></tr>\n",
    "            <tr style=\"border-collapse: collapse; border: 1px solid black;\">\n",
    "                <td style=\"border-collapse: collapse; border: 1px solid black;\"><u>hid</u></td>\n",
    "                <td style=\"border-collapse: collapse; border: 1px solid black;\"><u>fips</u></td>\n",
    "                <td style=\"border-collapse: collapse; border: 1px solid black;\">incounty</td>\n",
    "            </tr>\n",
    "            </tbody></table>\n",
    "            </td>\n",
    "        </tr>\n",
    "</tbody></table>\n",
    "\n",
    "An <a href=\"http://csbio.unc.edu/mcmillan/Media/NCCOVID19.db\" download>example database</a> and the interactive SQL parser (<a href=\"http://www.csbio.unc.edu/mcmillan/Media/iSQLpy\" download>iSQL.py</a>) are provided for experimentation. You will need to copy iSQL.py into the same Jupyter Hub directory as the notebook for this problem set and invoke it as follows:\n",
    "\n",
    "    import iSQL\n",
    "\n",
    "    query = iSQL.parser(\"NCCOVID19.db\")\n",
    "\n",
    "Make sure that you copy your SQL query into the cell provided for your answer. Only that cell will be graded.\n",
    "***Warning***, if your query appears to give the correct result for the given database, that does not mean that it is correct. A correct query must give the requested result for *any* and *all* valid instances of the given database schema."
   ]
  },
  {
   "cell_type": "code",
   "execution_count": null,
   "metadata": {},
   "outputs": [],
   "source": [
    "import iSQL\n",
    "query = iSQL.parser(\"NCCOVID19.db\")"
   ]
  },
  {
   "cell_type": "markdown",
   "metadata": {
    "case": 0,
    "key": "Bradshaw",
    "number": 1,
    "section": "problem"
   },
   "source": [
    "---\n",
    "**Problem 1:** Generate a table with the name, population, and region of all North Carolina counties in 2020."
   ]
  },
  {
   "cell_type": "raw",
   "metadata": {
    "number": 1,
    "section": "answer"
   },
   "source": [
    "SELECT C.name, SUM(D.count) AS population, C.region\n",
    "FROM County C, Demographics D\n",
    "WHERE C.fips=D.fips AND D.year=2020\n",
    "GROUP BY C.fips"
   ]
  },
  {
   "cell_type": "markdown",
   "metadata": {
    "case": 1,
    "key": "Bradshaw",
    "number": 2,
    "section": "problem"
   },
   "source": [
    "---\n",
    "**Problem 2:** Generate a table with the name and number of hospital beds found in each North Carolina county."
   ]
  },
  {
   "cell_type": "raw",
   "metadata": {
    "number": 2,
    "section": "answer"
   },
   "source": [
    "SELECT C.name, IFNULL(T.beds, 0) AS beds\n",
    "FROM County C\n",
    "LEFT JOIN (SELECT C.name, SUM(H.beds) AS beds\n",
    "           FROM County C, HospitalCounty HC, Hospital H\n",
    "           WHERE C.fips=HC.fips AND HC.hid=H.hid AND HC.incounty=1\n",
    "           GROUP BY C.fips) AS T\n",
    "ON C.name=T.name\n",
    "GROUP BY C.fips"
   ]
  },
  {
   "cell_type": "markdown",
   "metadata": {
    "case": 4,
    "key": "Bradshaw",
    "number": 3,
    "section": "problem"
   },
   "source": [
    "---\n",
    "**Problem 3:** Generate a table with each North Carolina County and the date of its first confirmed COVID19 case."
   ]
  },
  {
   "cell_type": "raw",
   "metadata": {
    "number": 3,
    "section": "answer"
   },
   "source": [
    "SELECT C.name AS hospital_name, MIN(C19.date) AS date\n",
    "FROM County C, Covid19 C19\n",
    "WHERE C.fips=C19.fips AND C19.cases>0\n",
    "GROUP BY C.fips"
   ]
  },
  {
   "cell_type": "markdown",
   "metadata": {
    "case": 5,
    "key": "Bradshaw",
    "number": 4,
    "section": "problem"
   },
   "source": [
    "---\n",
    "**Problem 4:** Generate a list of all Hospital names and North Carolina Counties in which there is more than one hospital. "
   ]
  },
  {
   "cell_type": "raw",
   "metadata": {
    "number": 4,
    "section": "answer"
   },
   "source": [
    "SELECT H.name AS hospital_name, C.name AS county_name\n",
    "FROM County C, Hospital H, HospitalCounty HC\n",
    "WHERE C.fips=HC.fips AND H.hid=HC.hid AND HC.incounty=1 AND\n",
    "                                          C.name IN (SELECT C.name\n",
    "                                                     FROM County C, Hospital H, HospitalCounty HC\n",
    "                                                     WHERE C.fips=HC.fips AND H.hid=HC.hid AND HC.incounty=1\n",
    "                                                     GROUP BY C.fips\n",
    "                                                     HAVING COUNT(C.fips)>1)"
   ]
  },
  {
   "cell_type": "markdown",
   "metadata": {
    "case": 7,
    "key": "Bradshaw",
    "number": 5,
    "section": "problem"
   },
   "source": [
    "---\n",
    "**Problem 5:** Generate a sorted list, from high to low, of North Carolina county ratios of residents in the age range of 25 to 45 to their total population in 2020. The output should include the county's name, 25-45 population, and ratio."
   ]
  },
  {
   "cell_type": "raw",
   "metadata": {
    "number": 5,
    "section": "answer"
   },
   "source": [
    "SELECT C.name, SUM(D.count) AS young_pop, (SUM(D.count)*1.0)/P.pop AS ratio\n",
    "FROM County C, Demographics D, (SELECT D.fips, SUM(D.count) AS pop\n",
    "                                FROM Demographics D\n",
    "                                WHERE D.year=2020\n",
    "                                GROUP BY D.fips) AS P\n",
    "WHERE C.fips=D.fips AND C.fips=P.fips AND D.year=2020 AND D.agelo>=25 AND D.agehi<=45\n",
    "GROUP BY C.fips\n",
    "ORDER BY ratio DESC"
   ]
  },
  {
   "cell_type": "markdown",
   "metadata": {
    "case": 9,
    "key": "Bradshaw",
    "number": 6,
    "section": "problem"
   },
   "source": [
    "---\n",
    "**Problem 6:** Generate a sorted list, from high to low, of the largest increase in North Carolina county ratios of residents in the age range of 25 to 45 to their total population in 2020 when compared to 2000. The output should include the county's name, 25-45 population ratio in 2020, and delta of ratio change."
   ]
  },
  {
   "cell_type": "raw",
   "metadata": {
    "number": 6,
    "section": "answer"
   },
   "source": [
    "SELECT Pop20.name, Pop20.pop*1.0/Total20.total AS pop_ratio,\n",
    "       Pop20.pop*1.0/Total20.total - Pop00.pop*1.0/Total00.total AS delta_ratio\n",
    "FROM (SELECT C.name, SUM(D.count) AS pop\n",
    "      FROM County C, Demographics D\n",
    "      WHERE C.fips=D.fips AND year=2020 AND D.agelo>=25 AND D.agehi<=45\n",
    "      GROUP BY C.fips) AS Pop20\n",
    "JOIN (SELECT C.name, SUM(D.count) AS pop\n",
    "      FROM County C, Demographics D\n",
    "      WHERE C.fips=D.fips AND year=2000 AND D.agelo>=25 AND D.agehi<=45\n",
    "      GROUP BY C.fips) AS Pop00 ON Pop20.name=Pop00.name\n",
    "JOIN (SELECT C.name, SUM(D.count) AS total\n",
    "      FROM County C, Demographics D\n",
    "      WHERE C.fips=D.fips AND year=2020\n",
    "      GROUP BY C.fips) AS Total20 ON Pop00.name=Total20.name\n",
    "JOIN (SELECT C.name, SUM(D.count) AS total\n",
    "      FROM County C, Demographics D\n",
    "      WHERE C.fips=D.fips AND year=2000\n",
    "      GROUP BY C.fips) AS Total00 ON Pop00.name=Total00.name\n",
    "ORDER BY delta_ratio DESC"
   ]
  },
  {
   "cell_type": "markdown",
   "metadata": {
    "case": 10,
    "key": "Bradshaw",
    "number": 7,
    "section": "problem"
   },
   "source": [
    "---\n",
    "**Problem 7:** For each county, find the single day with the most COVID19 deaths reported. Generate a list of each county, date, and the number of deaths."
   ]
  },
  {
   "cell_type": "raw",
   "metadata": {
    "number": 7,
    "section": "answer"
   },
   "source": [
    "SELECT C.name, C19.date, MAX(C19.deaths) AS deaths\n",
    "FROM County C, Covid19 C19\n",
    "WHERE C.fips=C19.fips AND C19.deaths>0\n",
    "GROUP BY C.fips"
   ]
  },
  {
   "cell_type": "markdown",
   "metadata": {
    "case": 11,
    "key": "Bradshaw",
    "number": 8,
    "section": "problem"
   },
   "source": [
    "---\n",
    "**Problem 8:** On what single day were the most North Carolina COVID19 deaths reported in the given reporting interval? For that day generate a list of each county, date, and the number of deaths. Include all counties, even those that did not report a death on the given date."
   ]
  },
  {
   "cell_type": "raw",
   "metadata": {
    "number": 8,
    "section": "answer"
   },
   "source": [
    "SELECT C.name, M.date, IFNULL(Tmp.deaths, 0) AS deaths\n",
    "FROM County C \n",
    "LEFT JOIN (SELECT C19.fips, C19.date, C19.deaths\n",
    "           FROM Covid19 C19\n",
    "           WHERE C19.date IN (SELECT date\n",
    "                              FROM (SELECT date, MAX(sum_deaths)\n",
    "                                    FROM (SELECT C19.date, SUM(C19.deaths) AS sum_deaths\n",
    "                                          FROM Covid19 C19\n",
    "                                          GROUP BY C19.date)))) AS Tmp\n",
    "ON C.fips=Tmp.fips, (SELECT date, MAX(sum_deaths)\n",
    "                     FROM (SELECT C19.date, SUM(C19.deaths) AS sum_deaths\n",
    "                           FROM Covid19 C19\n",
    "                           GROUP BY C19.date)) AS M"
   ]
  },
  {
   "cell_type": "markdown",
   "metadata": {
    "case": 12,
    "key": "Bradshaw",
    "number": 9,
    "section": "problem"
   },
   "source": [
    "---\n",
    "**Problem 9:** Generate a list of North Carolina counties where white females of voting age (&ge; 18 years old) are the largest voting age demographic in *2020*. *In your report, provide multiple rows for each county of voting age residents broken down by race and sex. You should only include rows for countys in which the largest voting demographic is white and female.*"
   ]
  },
  {
   "cell_type": "raw",
   "metadata": {
    "number": 9,
    "section": "answer"
   },
   "source": [
    "SELECT C.name, D.race, D.sex, SUM(D.count) AS total\n",
    "FROM County C, Demographics D\n",
    "WHERE C.fips=D.fips AND D.year=2020 AND D.agelo>=18 AND\n",
    "                                        C.name IN (SELECT name\n",
    "                                                   FROM (SELECT name, race, sex, MAX(total)\n",
    "                                                         FROM (SELECT C.name, D.race, D.sex, SUM(D.count) AS total\n",
    "                                                               FROM County C, Demographics D\n",
    "                                                               WHERE C.fips=D.fips AND D.year=2020 AND D.agelo>=18\n",
    "                                                               GROUP BY D.fips, D.race, D.sex)\n",
    "                                                         GROUP BY name)\n",
    "                                                   WHERE race='white' AND sex='female')\n",
    "GROUP BY C.name, D.race, D.sex"
   ]
  },
  {
   "cell_type": "markdown",
   "metadata": {
    "number": 10,
    "section": "problem"
   },
   "source": [
    "---\n",
    "**Problem 10:** What is the difference in total population between the age group from 45 to 54 in 2020 and the age group from 25 to 34 in *2000* for each county? Your output should be a list of counties and differences sorted from smallest (could be negative) to largest."
   ]
  },
  {
   "cell_type": "raw",
   "metadata": {
    "number": 10,
    "section": "answer"
   },
   "source": [
    "SELECT Older.name, Older.population-Younger.population AS difference\n",
    "FROM (SELECT C.name, SUM(D.count) AS population\n",
    "      FROM County C, Demographics D\n",
    "      WHERE C.fips=D.fips AND D.agelo>=45 AND D.agelo<=54 AND D.year=2020\n",
    "      GROUP BY C.name) AS Older\n",
    "JOIN (SELECT C.name, SUM(D.count) AS population\n",
    "      FROM County C, Demographics D\n",
    "      WHERE C.fips=D.fips AND D.agelo>=25 AND D.agelo<=34 AND D.year=2000\n",
    "      GROUP BY C.name) AS Younger\n",
    "ON Older.name=Younger.name\n",
    "ORDER BY difference"
   ]
  },
  {
   "cell_type": "markdown",
   "metadata": {
    "case": 0,
    "key": "Bradshaw",
    "number": 11,
    "section": "problem"
   },
   "source": [
    "---\n",
    "**Problem 11:** What 10 counties have the highest percentage of residents 65 or over years of age in *2020*? Provide both the county's name and percentage."
   ]
  },
  {
   "cell_type": "raw",
   "metadata": {
    "number": 11,
    "section": "answer"
   },
   "source": [
    "SELECT Whole.name, (Part.population*100.0)/Whole.population AS percentage\n",
    "FROM (SELECT C.name, SUM(D.count) AS population\n",
    "      FROM County C, Demographics D\n",
    "      WHERE C.fips=D.fips AND D.year=2020\n",
    "      GROUP BY C.name) AS Whole\n",
    "JOIN (SELECT C.name, SUM(D.count) AS population\n",
    "      FROM County C, Demographics D\n",
    "      WHERE C.fips=D.fips AND D.agelo>=65 AND D.count>0 AND D.year=2020\n",
    "      GROUP BY C.name) AS Part\n",
    "ON Whole.name=Part.name\n",
    "ORDER BY percentage DESC\n",
    "LIMIT 10"
   ]
  },
  {
   "cell_type": "markdown",
   "metadata": {
    "case": 1,
    "key": "Bradshaw",
    "number": 12,
    "section": "problem"
   },
   "source": [
    "---\n",
    "**Problem 12:** What counties in North Carolina do not have a hospital? Provide each county's name, population, and non-white population percentage in *2020*."
   ]
  },
  {
   "cell_type": "raw",
   "metadata": {
    "number": 12,
    "section": "answer"
   },
   "source": [
    "SELECT Test.name, Test.pop, IFNULL(Tmp.non_white_perc, 0) AS percentage\n",
    "FROM (SELECT CNH.fips, CNH.name, SUM(D.count) AS pop\n",
    "      FROM (SELECT C.fips, C.name\n",
    "            FROM County C, Demographics D\n",
    "            WHERE C.fips=D.fips\n",
    "            EXCEPT\n",
    "            SELECT C.fips, C.name\n",
    "            FROM County C, Demographics D, HospitalCounty HC\n",
    "            WHERE C.fips=D.fips AND C.fips=HC.fips AND HC.incounty=1\n",
    "            GROUP BY C.fips) AS CNH, Demographics D\n",
    "       WHERE CNH.fips=D.fips AND D.year=2020\n",
    "       GROUP BY CNH.fips) AS Test\n",
    "LEFT JOIN (SELECT C.fips, P.pop, (SUM(D.count)*100.0)/P.pop AS non_white_perc\n",
    "           FROM County C, Demographics D, (SELECT D2.fips, SUM(D2.count) AS pop\n",
    "                                           FROM Demographics D2\n",
    "                                           WHERE D2.year=2020\n",
    "                                           GROUP BY D2.fips) AS P\n",
    "           WHERE C.fips=D.fips AND D.fips=P.fips AND D.race!='white' AND D.year=2020\n",
    "           GROUP BY D.fips) AS Tmp\n",
    "ON Test.fips=Tmp.fips\n",
    "GROUP BY Test.fips"
   ]
  },
  {
   "cell_type": "markdown",
   "metadata": {
    "case": 2,
    "key": "Bradshaw",
    "number": 13,
    "section": "problem"
   },
   "source": [
    "---\n",
    "**Problem 13:**  Which counties had the highest ratio of COVID19 cases to hospital-bed capacity? Do not consider counties that do not have a hospital and hopitals that have no beds. Output the county's name, its cases-to-bed ratio, and the day it occured. "
   ]
  },
  {
   "cell_type": "raw",
   "metadata": {
    "number": 13,
    "section": "answer"
   },
   "source": [
    "SELECT C.name, (1.0*MAX(C19.cases))/B.beds AS ratio, C19.date\n",
    "FROM County C, Covid19 C19,\n",
    "     (SELECT HC.fips, SUM(H.beds) as beds\n",
    "      FROM HospitalCounty HC, Hospital H\n",
    "      WHERE HC.hid=H.hid AND HC.incounty=1\n",
    "      GROUP BY HC.fips\n",
    "      HAVING SUM(H.beds)>0) AS B\n",
    "WHERE C.fips=B.fips AND C.fips=C19.fips\n",
    "GROUP BY C.fips\n",
    "ORDER BY ratio DESC"
   ]
  },
  {
   "cell_type": "markdown",
   "metadata": {
    "case": 3,
    "key": "Bradshaw",
    "number": 14,
    "section": "problem"
   },
   "source": [
    "---\n",
    "**Problem 14:** Give a breakdown of COVID19 cases, deaths, and hospitals by geographic region. For each of the geographic regions output the accumulated sum of COVID19 cases and deaths since January 22, 2020, as well as the number of hospital beds in that region."
   ]
  },
  {
   "cell_type": "raw",
   "metadata": {
    "number": 14,
    "section": "answer"
   },
   "source": [
    "SELECT C.region, SUM(AD.cases), SUM(AD.deaths), SUM(AB.beds)\n",
    "FROM County C,\n",
    "     (SELECT C.fips, D.cases, D.deaths\n",
    "      FROM County C JOIN (SELECT fips, SUM(cases) AS cases, SUM(deaths) AS deaths \n",
    "                          FROM Covid19\n",
    "                          WHERE date>='2020-01-22' \n",
    "                          GROUP BY fips) AS D ON C.fips=D.fips) AS AD,\n",
    "     (SELECT C.fips, IFNULL(B.beds, 0) AS beds\n",
    "      FROM County C LEFT JOIN (SELECT HC.fips, SUM(H.beds) AS beds \n",
    "                               FROM Hospital H, HospitalCounty HC\n",
    "                               WHERE H.hid=HC.hid AND HC.incounty=1\n",
    "                               GROUP BY HC.fips) AS B ON C.fips=B.fips) AS AB\n",
    "WHERE C.fips=AD.fips AND C.fips=AB.fips\n",
    "GROUP BY C.region"
   ]
  },
  {
   "cell_type": "markdown",
   "metadata": {
    "number": 15,
    "section": "problem"
   },
   "source": [
    "---\n",
    "**Problem 15:** On your own, use the web to find the number of ICU beds in one of the hospitals in the given database that is currently reported to be 0 in our database. Write a SQL UPDATE command that sets this value to the one you discovered."
   ]
  },
  {
   "cell_type": "raw",
   "metadata": {
    "case": 5,
    "key": "common",
    "number": 15,
    "section": "answer"
   },
   "source": [
    "UPDATE Hospital\n",
    "SET icu=84\n",
    "WHERE name='CarolinaEast Medical Center'"
   ]
  },
  {
   "cell_type": "markdown",
   "metadata": {
    "case": 8,
    "key": "Bradshaw",
    "number": 16,
    "section": "problem"
   },
   "source": [
    "---\n",
    "**Problem 16:** Find one of the counties that has no hospital. On your own, use the web to find a nearby hospital in a bordering NC county. Write an INSERT command that inserts this hospital into the HospitalCounty table to indicate that this hospital serves a county where it is not located. "
   ]
  },
  {
   "cell_type": "raw",
   "metadata": {
    "number": 16,
    "section": "answer"
   },
   "source": [
    "INSERT INTO HospitalCounty(hid, fips, incounty) VALUES(1095, 37075, 0)"
   ]
  },
  {
   "cell_type": "markdown",
   "metadata": {
    "case": 13,
    "key": "Bradshaw",
    "number": 17,
    "section": "problem"
   },
   "source": [
    "---\n",
    "**Problem 17:** New confirmed COVID19 cases and deaths are reported daily. On your own, use the web to find the number of confirmed cases and deaths for some county not provided in the database. Write an INSERT command to add this new county and date to the COVID19 table."
   ]
  },
  {
   "cell_type": "raw",
   "metadata": {
    "number": 17,
    "section": "answer"
   },
   "source": [
    "INSERT INTO Covid19(fips, date, cases, deaths) VALUES(37063, '2020-09-11', 36, 1)"
   ]
  },
  {
   "cell_type": "markdown",
   "metadata": {
    "case": 15,
    "key": "Bradshaw",
    "number": 18,
    "section": "problem"
   },
   "source": [
    "---\n",
    "**Problem 18:** In the given database the numbers of COVID cases and deaths are not broken down according to sex. Assume that this data becomes available. Write *one or more* ALTER TABLE commands that include separate counts for confirmed cases and deaths according to sex, with the assumption that the total case counts includes both sexes as well as cases where the sex was not reported."
   ]
  },
  {
   "cell_type": "raw",
   "metadata": {
    "number": 18,
    "section": "answer"
   },
   "source": [
    "ALTER TABLE Covid19 ADD COLUMN confirmed_male INTEGER;\n",
    "ALTER TABLE Covid19 ADD COLUMN confirmed_female INTEGER;\n",
    "ALTER TABLE Covid19 ADD COLUMN deaths_male INTEGER;\n",
    "ALTER TABLE Covid19 ADD COLUMN deaths_female INTEGER;"
   ]
  },
  {
   "cell_type": "markdown",
   "metadata": {
    "case": 18,
    "key": "Bradshaw",
    "number": 19,
    "section": "problem"
   },
   "source": [
    "---\n",
    "**Problem 19:** Specify a CHECK that enforces that the sex-specific case and death counts are always &le; to the total counts based on your modified table from the previous problem."
   ]
  },
  {
   "cell_type": "raw",
   "metadata": {
    "number": 19,
    "section": "answer"
   },
   "source": [
    "CHECK(confirmed_male+confirmed_female<=cases AND deaths_male+deaths_female<=deaths)"
   ]
  },
  {
   "cell_type": "markdown",
   "metadata": {
    "case": 24,
    "key": "Bradshaw",
    "number": 20,
    "section": "problem"
   },
   "source": [
    "---\n",
    "**Problem 20:** Generate a list of all hosptials such that the county where they are located appears in their name."
   ]
  },
  {
   "cell_type": "raw",
   "metadata": {
    "number": 20,
    "section": "answer"
   },
   "source": [
    "SELECT T.hospital\n",
    "FROM (SELECT H.name AS hospital, C.name AS county\n",
    "      FROM Hospital H, HospitalCounty HC, County C\n",
    "      WHERE H.hid=HC.hid AND C.fips=HC.fips\n",
    "      GROUP BY H.name) AS T\n",
    "WHERE T.hospital LIKE '%' || T.county || '%'"
   ]
  }
 ],
 "metadata": {
  "kernelspec": {
   "display_name": "Python 3",
   "language": "python",
   "name": "python3"
  },
  "language_info": {
   "codemirror_mode": {
    "name": "ipython",
    "version": 3
   },
   "file_extension": ".py",
   "mimetype": "text/x-python",
   "name": "python",
   "nbconvert_exporter": "python",
   "pygments_lexer": "ipython3",
   "version": "3.7.4"
  }
 },
 "nbformat": 4,
 "nbformat_minor": 1
}
