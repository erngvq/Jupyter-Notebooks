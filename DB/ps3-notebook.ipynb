{
 "cells": [
  {
   "cell_type": "markdown",
   "metadata": {
    "course": "Comp521F19",
    "problemset": 3,
    "section": "header"
   },
   "source": [
    "<div style=\"text-align: center;\">\n",
    "<h1>The University of North Carolina at Chapel Hill</h1>\n",
    "<h1>COMP 521 Files and Databases Fall 2020</h1>\n",
    "<h1 style=\"font-size: 200%;\">Problem Set 3</h1>\n",
    "</div>"
   ]
  },
  {
   "cell_type": "markdown",
   "metadata": {
    "section": "setup"
   },
   "source": [
    "---\n",
    "In the following questions you will need to write Python3 programs to perform queries on and modify the <a href=\"http://csbio.unc.edu/mcmillan/Media/NCCOVID19.db\" download>NCCOVID19.db</a> database used in Problem Set 2. **You are only allowed to import the standard \"sqlite3\" and the \"time\" Python packages.**"
   ]
  },
  {
   "cell_type": "code",
   "execution_count": null,
   "metadata": {},
   "outputs": [],
   "source": [
    "import iSQL\n",
    "query = iSQL.parser(\"NCCOVID19.db\")"
   ]
  },
  {
   "cell_type": "markdown",
   "metadata": {
    "case": 0,
    "key": "coaches",
    "number": 1,
    "section": "problem"
   },
   "source": [
    "---\n",
    "**Problem 1:** The file <a href=\"http://csbio.unc.edu/mcmillan/Media/NC2018Mortality.csv\" download=\"NC2018Mortality.csv\">NC2018Mortality.csv</a> contains a list of deaths by race and sex in each of North Carolina's counties. Write a Python3 program that creates a new table in the NCCOVID19.db database and then loads that table into the database using values from this file. The table should have the following schema:\n",
    "\n",
    "<table style=\"border-collapse: collapse; border: 1px solid black;\"><tbody>\n",
    "<tr style=\"border-collapse: collapse; border: 1px solid black;\">\n",
    "    <th colspan=\"7\" style=\"text-align:center; background-color: skyblue;\">Mortality</th></tr>\n",
    "<tr style=\"border-collapse: collapse; border: 1px solid black;\">\n",
    "    <td style=\"border-collapse: collapse; border: 1px solid black;\"><u>fips</u></td>\n",
    "    <td style=\"border-collapse: collapse; border: 1px solid black;\"><u>year</u></td>\n",
    "    <td style=\"border-collapse: collapse; border: 1px solid black;\"><u>race</u></td>\n",
    "    <td style=\"border-collapse: collapse; border: 1px solid black;\"><u>sex</u></td>\n",
    "    <td style=\"border-collapse: collapse; border: 1px solid black;\">count</td>\n",
    "</tr>\n",
    "</tbody></table>\n",
    "\n",
    "Do not parse the file using pandas or Python's built-in \"csv\" modules \"reader\" method. This will require that you open the file, read its contents, split them into lines, and extract the header line."
   ]
  },
  {
   "cell_type": "code",
   "execution_count": 1,
   "metadata": {
    "case": 0,
    "key": "coaches",
    "number": 1,
    "section": "answer"
   },
   "outputs": [],
   "source": [
    "import sqlite3\n",
    "\n",
    "db = sqlite3.connect('NCCOVID19.db')\n",
    "cursor = db.cursor()\n",
    "\n",
    "fipsnameslist = cursor.execute(\"\"\"SELECT C.name, C.fips FROM County C\"\"\").fetchall()\n",
    "fipslist = {}\n",
    "for elt in fipsnameslist:\n",
    "    fipslist[elt[0].lower()] = elt[1]\n",
    "\n",
    "cursor.execute(\"\"\"DROP TABLE IF EXISTS Mortality\"\"\")\n",
    "cursor.execute(\"\"\"CREATE TABLE Mortality (\n",
    "                      fips    INTEGER,\n",
    "                      year    INTEGER,\n",
    "                      race    VARCHAR,\n",
    "                      sex     VARCHAR,\n",
    "                      count   INTEGER,\n",
    "                      PRIMARY KEY(fips, year, race, sex),\n",
    "                      FOREIGN KEY(fips) REFERENCES Demographics(fips),\n",
    "                      FOREIGN KEY(year) REFERENCES Demographics(year),\n",
    "                      FOREIGN KEY(race) REFERENCES Demographics(race),\n",
    "                      FOREIGN KEY(sex)  REFERENCES Demographics(sex))\"\"\")\n",
    "\n",
    "with open('NC2018Mortality.csv', 'r') as csvfile:\n",
    "    mort = [row.rstrip().split(',') for row in csvfile]\n",
    "\n",
    "ret = []\n",
    "for idx in range(1, len(mort)):    \n",
    "    ret.append((fipslist[mort[idx][0].lower()], 'white', 'male', int(mort[idx][1])))\n",
    "    ret.append((fipslist[mort[idx][0].lower()], 'white', 'female', int(mort[idx][2])))\n",
    "    ret.append((fipslist[mort[idx][0].lower()], 'black', 'male', int(mort[idx][3])))\n",
    "    ret.append((fipslist[mort[idx][0].lower()], 'black', 'female', int(mort[idx][4])))\n",
    "    ret.append((fipslist[mort[idx][0].lower()], 'asian', 'male', int(mort[idx][5])))\n",
    "    ret.append((fipslist[mort[idx][0].lower()], 'asian', 'female', int(mort[idx][6])))\n",
    "    ret.append((fipslist[mort[idx][0].lower()], 'aian', 'male', int(mort[idx][7])))\n",
    "    ret.append((fipslist[mort[idx][0].lower()], 'aian', 'female', int(mort[idx][8])))\n",
    "    ret.append((fipslist[mort[idx][0].lower()], 'other', 'male', int(mort[idx][9])))\n",
    "    ret.append((fipslist[mort[idx][0].lower()], 'other', 'female', int(mort[idx][10])))\n",
    "\n",
    "for idx in range(len(ret)):\n",
    "    cursor.execute(\"\"\"INSERT INTO Mortality(fips, year, race, sex, count) VALUES(?, 2018, ?, ?, ?)\"\"\",\n",
    "                  (ret[idx][0], ret[idx][1], ret[idx][2], ret[idx][3]))\n",
    "\n",
    "db.commit()\n",
    "db.close()"
   ]
  },
  {
   "cell_type": "markdown",
   "metadata": {
    "case": 1,
    "key": "coaches",
    "number": 2,
    "section": "problem"
   },
   "source": [
    "---\n",
    "**Problem 2:** Use the new table that you created in **Problem 1** to create the following Python3 function that estimates the number of 2018 deaths in each demographic category for a given county. These estimates are based on the assumption that *the number of mortality deaths in each demographic's age range is proportional to the 2018 population fraction in that same demogrphic's age range*. Your function should return a list of <code>(race,sex,agelo,agehi,count)</code> tuples, where the sum of all counts should match the total number of 2018 deaths in that county. All <code>counts</code> should be integers. All of your code must be within the body of the given function."
   ]
  },
  {
   "cell_type": "code",
   "execution_count": 2,
   "metadata": {
    "case": 1,
    "key": "coaches",
    "number": 2,
    "section": "answer"
   },
   "outputs": [
    {
     "data": {
      "text/plain": [
       "[('black', 'female', 85, 99, 3),\n",
       " ('black', 'female', 0, 2, 6),\n",
       " ('white', 'male', 15, 15, 9),\n",
       " ('black', 'male', 6, 9, 10),\n",
       " ('white', 'female', 85, 99, 24),\n",
       " ('black', 'female', 55, 59, 12),\n",
       " ('black', 'male', 20, 24, 12),\n",
       " ('black', 'male', 3, 4, 5),\n",
       " ('white', 'female', 35, 44, 80),\n",
       " ('other', 'female', 25, 34, 1),\n",
       " ('white', 'female', 65, 74, 75),\n",
       " ('black', 'female', 18, 19, 4),\n",
       " ('black', 'female', 15, 15, 2),\n",
       " ('white', 'female', 75, 84, 45),\n",
       " ('other', 'female', 10, 13, 1),\n",
       " ('black', 'female', 10, 13, 8),\n",
       " ('black', 'female', 5, 5, 2),\n",
       " ('black', 'male', 55, 59, 12),\n",
       " ('white', 'male', 3, 4, 14),\n",
       " ('white', 'male', 85, 99, 11),\n",
       " ('other', 'male', 10, 13, 1),\n",
       " ('other', 'male', 6, 9, 1),\n",
       " ('other', 'male', 25, 34, 1),\n",
       " ('white', 'male', 65, 74, 62),\n",
       " ('black', 'male', 25, 34, 23),\n",
       " ('white', 'female', 18, 19, 25),\n",
       " ('white', 'female', 20, 24, 53),\n",
       " ('other', 'female', 6, 9, 1),\n",
       " ('white', 'male', 75, 84, 33),\n",
       " ('white', 'male', 10, 13, 33),\n",
       " ('asian', 'female', 65, 74, 1),\n",
       " ('asian', 'male', 65, 74, 1),\n",
       " ('white', 'female', 25, 34, 83),\n",
       " ('white', 'male', 14, 14, 9),\n",
       " ('asian', 'male', 0, 2, 1),\n",
       " ('white', 'female', 5, 5, 7),\n",
       " ('black', 'male', 65, 74, 14),\n",
       " ('black', 'male', 75, 84, 6),\n",
       " ('other', 'male', 20, 24, 1),\n",
       " ('other', 'female', 20, 24, 1),\n",
       " ('asian', 'female', 20, 24, 1),\n",
       " ('black', 'male', 85, 99, 2),\n",
       " ('black', 'male', 5, 5, 3),\n",
       " ('black', 'female', 6, 9, 8),\n",
       " ('white', 'female', 100, 200, 1),\n",
       " ('white', 'female', 10, 13, 31),\n",
       " ('asian', 'male', 20, 24, 1),\n",
       " ('white', 'male', 25, 34, 73),\n",
       " ('asian', 'female', 55, 59, 1),\n",
       " ('asian', 'male', 55, 59, 1),\n",
       " ('black', 'female', 65, 74, 16),\n",
       " ('white', 'female', 55, 59, 49),\n",
       " ('other', 'male', 35, 44, 1),\n",
       " ('white', 'male', 45, 54, 89),\n",
       " ('white', 'male', 60, 64, 42),\n",
       " ('asian', 'male', 6, 9, 1),\n",
       " ('other', 'male', 0, 2, 1),\n",
       " ('asian', 'male', 10, 13, 1),\n",
       " ('asian', 'male', 60, 64, 1),\n",
       " ('other', 'female', 35, 44, 1),\n",
       " ('black', 'male', 60, 64, 11),\n",
       " ('other', 'female', 45, 54, 0),\n",
       " ('black', 'male', 15, 15, 2),\n",
       " ('asian', 'female', 60, 64, 0),\n",
       " ('white', 'female', 60, 64, 45),\n",
       " ('white', 'male', 20, 24, 49),\n",
       " ('black', 'male', 35, 44, 17),\n",
       " ('black', 'male', 18, 19, 5),\n",
       " ('other', 'female', 0, 2, 0),\n",
       " ('other', 'male', 45, 54, 0),\n",
       " ('asian', 'female', 10, 13, 0),\n",
       " ('white', 'male', 16, 17, 18),\n",
       " ('black', 'female', 45, 54, 23),\n",
       " ('asian', 'female', 6, 9, 0),\n",
       " ('asian', 'male', 3, 4, 0),\n",
       " ('asian', 'male', 45, 54, 1),\n",
       " ('other', 'female', 18, 19, 0),\n",
       " ('black', 'male', 14, 14, 2),\n",
       " ('black', 'female', 60, 64, 10),\n",
       " ('black', 'female', 75, 84, 7),\n",
       " ('white', 'male', 55, 59, 44),\n",
       " ('other', 'male', 16, 17, 0),\n",
       " ('asian', 'male', 18, 19, 0),\n",
       " ('other', 'female', 16, 17, 0),\n",
       " ('asian', 'female', 0, 2, 0),\n",
       " ('white', 'male', 6, 9, 29),\n",
       " ('other', 'male', 18, 19, 0),\n",
       " ('white', 'male', 18, 19, 21),\n",
       " ('white', 'female', 15, 15, 8),\n",
       " ('black', 'female', 25, 34, 20),\n",
       " ('asian', 'female', 35, 44, 1),\n",
       " ('asian', 'female', 75, 84, 0),\n",
       " ('asian', 'male', 16, 17, 0),\n",
       " ('white', 'male', 0, 2, 21),\n",
       " ('asian', 'male', 75, 84, 0),\n",
       " ('other', 'male', 3, 4, 0),\n",
       " ('asian', 'female', 16, 17, 0),\n",
       " ('black', 'female', 16, 17, 4),\n",
       " ('black', 'male', 10, 13, 10),\n",
       " ('asian', 'female', 18, 19, 0),\n",
       " ('white', 'male', 100, 200, 0),\n",
       " ('other', 'male', 15, 15, 0),\n",
       " ('other', 'female', 3, 4, 0),\n",
       " ('asian', 'female', 3, 4, 0),\n",
       " ('asian', 'male', 25, 34, 1),\n",
       " ('other', 'male', 55, 59, 0),\n",
       " ('asian', 'female', 45, 54, 1),\n",
       " ('aian', 'female', 35, 44, 0),\n",
       " ('aian', 'male', 35, 44, 0),\n",
       " ('asian', 'male', 14, 14, 0),\n",
       " ('other', 'male', 14, 14, 0),\n",
       " ('black', 'male', 0, 2, 8),\n",
       " ('other', 'female', 14, 14, 0),\n",
       " ('other', 'female', 15, 15, 0),\n",
       " ('other', 'female', 55, 59, 0),\n",
       " ('aian', 'male', 25, 34, 0),\n",
       " ('asian', 'male', 15, 15, 0),\n",
       " ('black', 'female', 20, 24, 10),\n",
       " ('white', 'female', 6, 9, 26),\n",
       " ('asian', 'male', 5, 5, 0),\n",
       " ('other', 'male', 65, 74, 0),\n",
       " ('aian', 'female', 25, 34, 0),\n",
       " ('asian', 'female', 25, 34, 1),\n",
       " ('asian', 'female', 85, 99, 0),\n",
       " ('aian', 'male', 45, 54, 0),\n",
       " ('other', 'male', 60, 64, 0),\n",
       " ('other', 'male', 5, 5, 0),\n",
       " ('asian', 'male', 85, 99, 0),\n",
       " ('other', 'female', 65, 74, 0),\n",
       " ('white', 'female', 0, 2, 20),\n",
       " ('other', 'female', 5, 5, 0),\n",
       " ('aian', 'female', 45, 54, 0),\n",
       " ('asian', 'female', 15, 15, 0),\n",
       " ('white', 'male', 35, 44, 71),\n",
       " ('aian', 'female', 10, 13, 0),\n",
       " ('other', 'female', 60, 64, 0),\n",
       " ('asian', 'male', 35, 44, 1),\n",
       " ('asian', 'female', 5, 5, 0),\n",
       " ('aian', 'female', 20, 24, 0),\n",
       " ('aian', 'male', 20, 24, 0),\n",
       " ('aian', 'male', 10, 13, 0),\n",
       " ('white', 'female', 45, 54, 94),\n",
       " ('white', 'female', 3, 4, 13),\n",
       " ('white', 'female', 14, 14, 8),\n",
       " ('asian', 'female', 14, 14, 0),\n",
       " ('black', 'male', 16, 17, 5),\n",
       " ('aian', 'female', 6, 9, 0),\n",
       " ('aian', 'male', 6, 9, 0),\n",
       " ('other', 'female', 85, 99, 0),\n",
       " ('aian', 'male', 18, 19, 0),\n",
       " ('white', 'male', 5, 5, 7),\n",
       " ('aian', 'male', 55, 59, 0),\n",
       " ('aian', 'female', 18, 19, 0),\n",
       " ('other', 'male', 75, 84, 0),\n",
       " ('black', 'female', 14, 14, 2),\n",
       " ('aian', 'female', 16, 17, 0),\n",
       " ('aian', 'male', 16, 17, 0),\n",
       " ('white', 'female', 16, 17, 16),\n",
       " ('other', 'female', 75, 84, 0),\n",
       " ('aian', 'female', 65, 74, 0),\n",
       " ('aian', 'female', 55, 59, 0),\n",
       " ('aian', 'male', 65, 74, 0),\n",
       " ('aian', 'male', 60, 64, 0),\n",
       " ('aian', 'male', 14, 14, 0),\n",
       " ('aian', 'female', 60, 64, 0),\n",
       " ('aian', 'female', 0, 2, 0),\n",
       " ('aian', 'female', 3, 4, 0),\n",
       " ('aian', 'female', 14, 14, 0),\n",
       " ('aian', 'male', 0, 2, 0),\n",
       " ('aian', 'male', 3, 4, 0),\n",
       " ('aian', 'female', 15, 15, 0),\n",
       " ('aian', 'female', 75, 84, 0),\n",
       " ('aian', 'male', 15, 15, 0),\n",
       " ('black', 'female', 35, 44, 19),\n",
       " ('aian', 'female', 5, 5, 0),\n",
       " ('black', 'female', 3, 4, 4),\n",
       " ('aian', 'male', 5, 5, 0),\n",
       " ('aian', 'male', 75, 84, 0),\n",
       " ('black', 'female', 100, 200, 0),\n",
       " ('asian', 'male', 100, 200, 0),\n",
       " ('other', 'female', 100, 200, 0),\n",
       " ('aian', 'male', 85, 99, 0),\n",
       " ('black', 'male', 45, 54, 24),\n",
       " ('aian', 'female', 85, 99, 0),\n",
       " ('aian', 'female', 100, 200, 0),\n",
       " ('aian', 'male', 100, 200, 0),\n",
       " ('asian', 'female', 100, 200, 0),\n",
       " ('black', 'male', 100, 200, 0),\n",
       " ('other', 'male', 85, 99, 0),\n",
       " ('other', 'male', 100, 200, 0)]"
      ]
     },
     "execution_count": 2,
     "metadata": {},
     "output_type": "execute_result"
    }
   ],
   "source": [
    "import sqlite3\n",
    "\n",
    "def covidDemographicsEstimate(countyName):\n",
    "    demographicGroup = []\n",
    "    db = sqlite3.connect(\"NCCOVID19.db\")\n",
    "    #db.row_factory = sqlite3.Row\n",
    "    db.text_factory = str\n",
    "    cursor = db.cursor()\n",
    "\n",
    "    groupDemographic = []\n",
    "    groupDemographic = cursor.execute(f\"\"\"SELECT A.race, A.sex, A.agelo, A.agehi, CAST((A.count) AS INT) AS casted,\n",
    "                                                (A.count - CAST((A.count) AS INT)) AS remainder\n",
    "                                          FROM (SELECT T.fips, T.race, T.sex, T.agelo, T.agehi, T.ratio*MM.count AS count\n",
    "                                                FROM (SELECT D.fips, D.race, D.sex, D.agelo, D.agehi,\n",
    "                                                            (1.0*D.count)/Total.count AS ratio\n",
    "                                                      FROM Demographics D, (SELECT D.fips, D.race, D.sex,\n",
    "                                                                                   SUM(D.count) AS count\n",
    "                                                                            FROM Demographics D\n",
    "                                                                            WHERE D.year=2018\n",
    "                                                                            GROUP BY D.fips, D.race, D.sex) AS Total\n",
    "                                                      WHERE D.year=2018 AND D.fips=Total.fips AND D.race=Total.race\n",
    "                                                                                              AND D.sex=Total.sex) AS T\n",
    "                                                LEFT JOIN (SELECT M.fips, M.race, M.sex, M.count\n",
    "                                                           FROM Mortality M) AS MM\n",
    "                                                ON MM.fips=T.fips AND MM.race=T.race AND MM.sex=T.sex) AS A, County C\n",
    "                                          WHERE A.fips=C.fips AND C.name='{countyName}'\n",
    "                                          ORDER BY remainder DESC\"\"\").fetchall()\n",
    "    totalRem = 0\n",
    "    for idx in range(len(groupDemographic)):\n",
    "        totalRem += groupDemographic[idx][5]\n",
    "    totalRem = round(totalRem)\n",
    "    \n",
    "    for idx in range(totalRem):\n",
    "        demographicGroup.append((groupDemographic[idx][0], groupDemographic[idx][1],\n",
    "                                 groupDemographic[idx][2], groupDemographic[idx][3],\n",
    "                                 groupDemographic[idx][4] + 1))\n",
    "    \n",
    "    for idx in range(totalRem, len(groupDemographic)):\n",
    "        demographicGroup.append((groupDemographic[idx][0], groupDemographic[idx][1],\n",
    "                                 groupDemographic[idx][2], groupDemographic[idx][3],\n",
    "                                 groupDemographic[idx][4]))\n",
    "    \n",
    "    #total = 0\n",
    "    #for elt in demographicGroup:\n",
    "    #    total += elt[4]\n",
    "    #print(total)\n",
    "\n",
    "    return demographicGroup\n",
    "covidDemographicsEstimate('Alamance')"
   ]
  },
  {
   "cell_type": "raw",
   "metadata": {},
   "source": [
    "*******************************************************************************************************************************\n",
    "# More concise visualization\n",
    "\n",
    "SELECT A.race, A.sex, A.agelo, A.agehi, CAST((A.count) AS INT) AS casted, (A.count - CAST((A.count) AS INT)) AS remainder\n",
    "FROM (SELECT T.fips, T.race, T.sex, T.agelo, T.agehi, T.ratio*MM.count AS count\n",
    "      FROM (SELECT D.fips, D.race, D.sex, D.agelo, D.agehi, (1.0*D.count)/Total.count AS ratio\n",
    "            FROM Demographics D, (SELECT D.fips, D.race, D.sex, SUM(D.count) AS count\n",
    "                                  FROM Demographics D\n",
    "                                  WHERE D.year=2018\n",
    "                                  GROUP BY D.fips, D.race, D.sex) AS Total\n",
    "            WHERE D.year=2018 AND D.fips=Total.fips AND D.race=Total.race AND D.sex=Total.sex) AS T\n",
    "      LEFT JOIN (SELECT M.fips, M.race, M.sex, M.count\n",
    "                 FROM Mortality M) AS MM\n",
    "      ON MM.fips=T.fips AND MM.race=T.race AND MM.sex=T.sex) AS A, County C\n",
    "WHERE A.fips=C.fips AND C.name='{countyName}'\n",
    "ORDER BY remainder DESC\n",
    "*******************************************************************************************************************************"
   ]
  },
  {
   "cell_type": "raw",
   "metadata": {},
   "source": [
    "*******************************************************************************************************************************\n",
    "# For testing purposes\n",
    "\n",
    "SELECT fips, race, sex, SUM(count) FROM (\n",
    "\n",
    "SELECT T.fips, T.race, T.sex, T.agelo, T.agehi, T.ratio*M.count AS count\n",
    "FROM (SELECT D.fips, D.race, D.sex, D.agelo, D.agehi, (1.0*D.count)/Total.count AS ratio\n",
    "      FROM Demographics D, (SELECT D.fips, D.race, D.sex, SUM(D.count) AS count\n",
    "                            FROM Demographics D\n",
    "                            WHERE D.year=2018\n",
    "                            GROUP BY D.fips, D.race, D.sex) AS Total\n",
    "      WHERE D.year=2018 AND D.fips=Total.fips AND D.race=Total.race AND D.sex=Total.sex) AS T\n",
    "LEFT JOIN (SELECT M.fips, M.race, M.sex, M.count\n",
    "           FROM Mortality M) AS MM\n",
    "ON MM.fips=T.fips AND MM.race=T.race AND MM.sex=T.sex\n",
    "\n",
    ") GROUP BY fips\n",
    "*******************************************************************************************************************************"
   ]
  },
  {
   "cell_type": "markdown",
   "metadata": {
    "case": 0,
    "key": "repeats",
    "number": 3,
    "section": "problem"
   },
   "source": [
    "---\n",
    "**Problem 3:** In the space below write a SQL query that generates a list of (countyName, covidDeaths, totalDeaths2018, percentage) for all counties for which the 2020 Covid19 deaths exceed 5% of the total deaths for that same county in 2018."
   ]
  },
  {
   "cell_type": "raw",
   "metadata": {
    "case": 0,
    "key": "repeats",
    "number": 3,
    "section": "answer"
   },
   "source": [
    "SELECT C.name AS countyName, CD20.deaths AS covidDeaths, TD18.count AS totalDeaths2018,\n",
    "       100.0*CD20.deaths/TD18.count AS percentage\n",
    "FROM County C,\n",
    "     (SELECT C19.fips, SUM(C19.deaths) AS deaths\n",
    "      FROM Covid19 C19\n",
    "      GROUP BY C19.fips) AS CD20,\n",
    "     (SELECT M.fips, SUM(M.count) AS count\n",
    "      FROM Mortality M\n",
    "      GROUP BY M.fips) AS TD18\n",
    "WHERE C.fips=CD20.fips AND CD20.fips=TD18.fips AND CD20.deaths>TD18.count*0.05"
   ]
  },
  {
   "cell_type": "markdown",
   "metadata": {
    "case": 1,
    "key": "repeats",
    "number": 4,
    "section": "problem"
   },
   "source": [
    "---\n",
    "**Problem 4:** In the space below write a Python3 function that returns a list of all dates for which the given \"fips\" number accounts for at least the given \"percent\" of the total Covid19 cases on that date. As an example, the NCCOVID19.db database includes Covid19 records that are not associated with any county. These records have a fips of 0. When your function is called with <code>AtLeastPercent(0, 10.0)</code> it should return the following list of dates:\n",
    "\n",
    "     ['2020-06-05', '2020-06-10', '2020-06-15', '2020-08-12']"
   ]
  },
  {
   "cell_type": "code",
   "execution_count": 3,
   "metadata": {
    "case": 1,
    "key": "repeats",
    "number": 4,
    "section": "answer"
   },
   "outputs": [
    {
     "data": {
      "text/plain": [
       "['2020-06-05', '2020-06-10', '2020-06-15', '2020-08-12']"
      ]
     },
     "execution_count": 3,
     "metadata": {},
     "output_type": "execute_result"
    }
   ],
   "source": [
    "import sqlite3\n",
    "\n",
    "def AtLeastPercent(fips, percent):\n",
    "    dateList = []\n",
    "    db = sqlite3.connect(\"NCCOVID19.db\")\n",
    "    #db.row_factory = sqlite3.Row\n",
    "    db.text_factory = str\n",
    "    cursor = db.cursor()\n",
    "    \n",
    "    dateList = cursor.execute(f\"\"\"SELECT date\n",
    "                                  FROM (SELECT C19.fips, C19.date, Tmp.cases AS part, SUM(C19.cases) AS total\n",
    "                                        FROM Covid19 C19, (SELECT C19.fips, C19.date, C19.cases\n",
    "                                                           FROM Covid19 C19\n",
    "                                                           WHERE C19.cases>0 AND C19.fips={fips}) AS Tmp\n",
    "                                        WHERE C19.date=Tmp.date\n",
    "                                        GROUP BY C19.date)\n",
    "                                  WHERE 100.0*part/total>={percent}\n",
    "                               \"\"\").fetchall()\n",
    "    \n",
    "    for idx in range(len(dateList)):\n",
    "        tmp = dateList[idx][0]\n",
    "        dateList[idx] = tmp\n",
    "    \n",
    "    return dateList\n",
    "AtLeastPercent(0, 10.0)"
   ]
  },
  {
   "cell_type": "raw",
   "metadata": {},
   "source": [
    "*******************************************************************************************************************************\n",
    "# For testing purposes\n",
    "\n",
    "SELECT date\n",
    "FROM (SELECT C19.fips, C19.date, Tmp.cases AS part, SUM(C19.cases) AS total\n",
    "      FROM Covid19 C19, (SELECT C19.fips, C19.date, C19.cases\n",
    "                         FROM Covid19 C19\n",
    "                         WHERE C19.cases>0 AND C19.fips=0) AS Tmp\n",
    "      WHERE C19.date=Tmp.date\n",
    "      GROUP BY C19.date)\n",
    "WHERE 100.0*part/total>=10.0\n",
    "*******************************************************************************************************************************"
   ]
  },
  {
   "cell_type": "markdown",
   "metadata": {
    "case": 0,
    "key": "repeatPlayers",
    "number": 5,
    "section": "problem"
   },
   "source": [
    "---\n",
    "**Problem 5:** The following query was designed to identify dates where two Counties reported the same number of cases on the same date:<br>\n",
    "        <pre>\n",
    "        SELECT C1.name, C2.name, V1.date, V1.cases\n",
    "        FROM County C1, Covid19 V1, County C2, Covid19 V2\n",
    "        WHERE C1.fips = V1.fips AND C2.fips = V2.fips AND\n",
    "              V1.cases = V2.cases AND V1.date = V2.date AND\n",
    "              V1.fips < V2.fips AND V1.cases >= 1\n",
    "        </pre>\n",
    "        \n",
    "This query is slow using the default NCCOVID19.db. Write a Python3 program to execute and time this query along with time to save all rows that it returns into a list for subsequent processing. You should verify that your list actually extracts data from the rows. In the cell provided below give the number of rows returned and the time required (no code please)."
   ]
  },
  {
   "cell_type": "raw",
   "metadata": {
    "case": 0,
    "key": "repeatPlayers",
    "number": 5,
    "section": "answer"
   },
   "source": [
    "Enter the time for the query: 0.2556426525115967\n",
    "\n",
    "Enter the number of rows reported: 26826"
   ]
  },
  {
   "cell_type": "code",
   "execution_count": 4,
   "metadata": {},
   "outputs": [
    {
     "name": "stdout",
     "output_type": "stream",
     "text": [
      "3.522627301871319\n",
      "0.2556426525115967\n",
      "26826\n"
     ]
    }
   ],
   "source": [
    "# Without for-loop\n",
    "import sqlite3\n",
    "import time\n",
    "\n",
    "db = sqlite3.connect(\"NCCOVID19.db\")\n",
    "db.row_factory = sqlite3.Row\n",
    "db.text_factory = str\n",
    "cursor = db.cursor()\n",
    "\n",
    "begin = time.time()\n",
    "    \n",
    "query = cursor.execute(\"\"\"SELECT C1.name, C2.name, V1.date, V1.cases\n",
    "                          FROM County C1, Covid19 V1, County C2, Covid19 V2\n",
    "                          WHERE C1.fips=V1.fips AND C2.fips=V2.fips AND\n",
    "                                V1.cases=V2.cases AND V1.date=V2.date AND\n",
    "                                V1.fips<V2.fips AND V1.cases>=1\"\"\").fetchall()\n",
    "\n",
    "avg = 0\n",
    "for elt in query:\n",
    "    avg += elt[3]\n",
    "print(avg / len(query))\n",
    "    \n",
    "end = time.time()\n",
    "elapsedTime = end - begin\n",
    "    \n",
    "count = len(query)\n",
    "\n",
    "print(elapsedTime)\n",
    "print(count)"
   ]
  },
  {
   "cell_type": "code",
   "execution_count": 5,
   "metadata": {},
   "outputs": [
    {
     "name": "stdout",
     "output_type": "stream",
     "text": [
      "0.25906471729278563\n",
      "26826\n"
     ]
    }
   ],
   "source": [
    "# Using for-loop (50 iterations)\n",
    "import sqlite3\n",
    "import time\n",
    "\n",
    "db = sqlite3.connect(\"NCCOVID19.db\")\n",
    "db.row_factory = sqlite3.Row\n",
    "db.text_factory = str\n",
    "cursor = db.cursor()\n",
    "\n",
    "averageTime = 0;\n",
    "\n",
    "for k in range(50):\n",
    "    begin = time.time()\n",
    "    \n",
    "    query = cursor.execute(\"\"\"SELECT C1.name, C2.name, V1.date, V1.cases\n",
    "                              FROM County C1, Covid19 V1, County C2, Covid19 V2\n",
    "                              WHERE C1.fips=V1.fips AND C2.fips=V2.fips AND\n",
    "                                    V1.cases=V2.cases AND V1.date=V2.date AND\n",
    "                                    V1.fips<V2.fips AND V1.cases>=1\"\"\").fetchall()\n",
    "\n",
    "    end = time.time()\n",
    "    averageTime += (end - begin)\n",
    "    \n",
    "elapsedTime = averageTime / 50\n",
    "count = len(query)\n",
    "\n",
    "print(elapsedTime)\n",
    "print(count)"
   ]
  },
  {
   "cell_type": "markdown",
   "metadata": {
    "case": 1,
    "key": "repeatPlayers",
    "number": 6,
    "section": "problem"
   },
   "source": [
    "---\n",
    "**Problem 6:** Next create an index to improve the performance of this query. In the cell provided below give\n",
    "the \"CREATE INDEX\" statement that you found provides the best performance improvement. Also include\n",
    "the time required for the query after creating the index you chose."
   ]
  },
  {
   "cell_type": "raw",
   "metadata": {
    "case": 1,
    "key": "repeatPlayers",
    "number": 6,
    "section": "answer"
   },
   "source": [
    "Enter the SQL command for the index that you created: CREATE INDEX IF NOT EXISTS idx ON Covid19(cases, date, fips)\n",
    "\n",
    "Enter the time for the query using your index: 0.18890047073364258"
   ]
  },
  {
   "cell_type": "code",
   "execution_count": 6,
   "metadata": {},
   "outputs": [
    {
     "name": "stdout",
     "output_type": "stream",
     "text": [
      "0.18890047073364258\n"
     ]
    }
   ],
   "source": [
    "import sqlite3\n",
    "import time\n",
    "\n",
    "db = sqlite3.connect(\"NCCOVID19.db\")\n",
    "db.row_factory = sqlite3.Row\n",
    "db.text_factory = str\n",
    "cursor = db.cursor()\n",
    "\n",
    "cursor.execute(\"CREATE INDEX IF NOT EXISTS idx ON Covid19(cases, date, fips)\")\n",
    "begin = time.time()\n",
    "    \n",
    "query = cursor.execute(\"\"\"SELECT C1.name, C2.name, V1.date, V1.cases\n",
    "                          FROM County C1, Covid19 V1, County C2, Covid19 V2\n",
    "                          WHERE C1.fips=V1.fips AND C2.fips=V2.fips AND\n",
    "                                V1.cases=V2.cases AND V1.date=V2.date AND\n",
    "                                V1.fips<V2.fips AND V1.cases>=1\"\"\").fetchall()\n",
    "\n",
    "avg = 0\n",
    "for elt in query:\n",
    "    avg += elt[3]\n",
    "print(avg / len(query))\n",
    "\n",
    "end = time.time()\n",
    "elapsedTime = end - begin\n",
    "\n",
    "cursor.execute(\"\"\"DROP INDEX idx\"\"\").fetchall()\n",
    "\n",
    "print(elapsedTime)"
   ]
  }
 ],
 "metadata": {
  "kernelspec": {
   "display_name": "Python 3",
   "language": "python",
   "name": "python3"
  },
  "language_info": {
   "codemirror_mode": {
    "name": "ipython",
    "version": 3
   },
   "file_extension": ".py",
   "mimetype": "text/x-python",
   "name": "python",
   "nbconvert_exporter": "python",
   "pygments_lexer": "ipython3",
   "version": "3.7.4"
  }
 },
 "nbformat": 4,
 "nbformat_minor": 1
}
